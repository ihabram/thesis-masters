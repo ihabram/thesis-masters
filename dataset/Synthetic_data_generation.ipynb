{
 "cells": [
  {
   "cell_type": "code",
   "execution_count": 24,
   "metadata": {},
   "outputs": [
    {
     "name": "stdout",
     "output_type": "stream",
     "text": [
      "Blümel Lange e.V.\n",
      "Tina-Gierschner-Allee\n",
      "Sarina-Stiebitz-Gasse 90\n",
      "46936\n",
      "Melle\n",
      "Germany\n",
      "VAT\n",
      "FOADDE8J\n",
      "DE60734938563973435661\n",
      "+49(0)5493 353146\n",
      "xstumpf@example.net\n",
      "2017-10-24\n",
      "('PGK', 'Papua New Guinean kina')\n"
     ]
    }
   ],
   "source": [
    "from faker import Faker\n",
    "import random\n",
    "\n",
    "localization = ['de_DE', 'de_AT', 'de_CH', 'en_GB', 'fr_FR', 'es_ES', 'it_IT', 'nl_NL', 'pt_PT', 'pl_PL']\n",
    "weights = [0.4, 0.1, 0.1, 0.1, 0.05, 0.05, 0.05, 0.05, 0.05, 0.05]\n",
    "\n",
    "for _ in range(1):\n",
    "    # Get a random country\n",
    "    loc = random.choices(localization, weights)\n",
    "\n",
    "    fake = Faker(loc)          # Instanciate the Faker class with the country\n",
    "    fake.seed_instance(4321)   # Seed the generator to be able to reproduce the results\n",
    "    print(fake.company())\n",
    "    print(fake.street_name())\n",
    "    print(fake.street_address())\n",
    "    print(fake.postcode())\n",
    "    print(fake.city())\n",
    "    print(fake.current_country())\n",
    "    print('VAT')\n",
    "    print(fake.swift8())\n",
    "    print(fake.iban())\n",
    "    print(fake.phone_number())\n",
    "    print(fake.email())\n",
    "    print(fake.date())\n",
    "    print(fake.currency())"
   ]
  },
  {
   "cell_type": "code",
   "execution_count": null,
   "metadata": {},
   "outputs": [],
   "source": []
  }
 ],
 "metadata": {
  "kernelspec": {
   "display_name": "nlp",
   "language": "python",
   "name": "python3"
  },
  "language_info": {
   "codemirror_mode": {
    "name": "ipython",
    "version": 3
   },
   "file_extension": ".py",
   "mimetype": "text/x-python",
   "name": "python",
   "nbconvert_exporter": "python",
   "pygments_lexer": "ipython3",
   "version": "3.8.16"
  },
  "orig_nbformat": 4
 },
 "nbformat": 4,
 "nbformat_minor": 2
}
