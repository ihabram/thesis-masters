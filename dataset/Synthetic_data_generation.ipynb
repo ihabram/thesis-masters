{
 "cells": [
  {
   "attachments": {},
   "cell_type": "markdown",
   "metadata": {},
   "source": [
    "### 1. Read-in the labels"
   ]
  },
  {
   "cell_type": "code",
   "execution_count": null,
   "metadata": {},
   "outputs": [],
   "source": [
    "import json\n",
    "\n",
    "label_dir = r'C:\\Users\\Habram\\Documents\\Datasets\\SER_custom\\AgderEnergiSolutionsGmbH_generation.json'\n",
    "f = open(label_dir)\n",
    "data = json.load(f)\n",
    "\n",
    "labels = dict()\n",
    "for elem in data['shapes']:\n",
    "    if elem['label'] in labels.keys():\n",
    "        labels[elem['label']].append(elem['points'])\n",
    "    else:\n",
    "        labels[elem['label']] = [elem['points']]"
   ]
  },
  {
   "attachments": {},
   "cell_type": "markdown",
   "metadata": {},
   "source": [
    "### 2. Generate fake data"
   ]
  },
  {
   "cell_type": "code",
   "execution_count": 1,
   "metadata": {},
   "outputs": [
    {
     "name": "stdout",
     "output_type": "stream",
     "text": [
      "{'R_Name': 'Meister, Kern and Hotz', 'R_Street': 'Friedlistrasse', 'R_HouseNumber': '697', 'R_ZIP': '3434', 'R_City': 'Köniz', 'R_Country': 'Switzerland', 'R_VAT': 'CH406015689', 'S_Name': 'Jost, Schwarz and Wyss', 'S_Street': 'Bättigstrasse', 'S_HouseNumber': '1', 'S_ZIP': '7132', 'S_City': 'Sitten', 'S_Country': 'Switzerland', 'S_VAT': 'CH986832101', 'S_Bank': 'PostFinance', 'S_BIC': 'ZAEHCH0S', 'S_IBAN': 'CH0520890994755413040', 'S_Tel': '269-571-8202x7748', 'S_Email': 'carlo83@example.net', 'I_Number': '191479202', 'I_Amount': '97313898,23', 'I_Currency': 'CHF', 'Fax': '440-047-5608x32286', 'Website': 'www.jostschwarzandwyss.ch', 'Contact_name': 'Giuseppina Hodel', 'Start_date': '01.07.2023', 'End_date': '31.07.2023', 'I_Date': '31.07.2023', 'I_DueDate': '27.08.2023'}\n",
      "{'R_Name': 'Schenk Müller GmbH', 'R_Street': 'Krauseallee', 'R_HouseNumber': '7/4', 'R_ZIP': '64667', 'R_City': 'Schwandorf', 'R_Country': 'Germany', 'R_VAT': 'DE805201365', 'S_Name': 'Fischer Barkholz GmbH & Co. KG', 'S_Street': 'Miodrag-Jopich-Ring', 'S_HouseNumber': '25', 'S_ZIP': '84246', 'S_City': 'Pritzwalk', 'S_Country': 'Germany', 'S_VAT': 'DE982245951', 'S_Bank': 'KfW Bank', 'S_BIC': 'FDVADEGT', 'S_IBAN': 'DE09430910588704304715', 'S_Tel': '09487494007', 'S_Email': 'recepjacob@example.org', 'I_Number': '884965899', 'I_Amount': '985941,53', 'I_Currency': 'EUR', 'Fax': '(01335) 312288', 'Website': 'www.fischerbarkholzgmbhcokg.de', 'Contact_name': 'Friedhilde Lange', 'Start_date': '01.01.2016', 'End_date': '31.01.2016', 'I_Date': '31.01.2016', 'I_DueDate': '25.02.2016'}\n",
      "{'R_Name': 'Hawkins, Bull and Stone', 'R_Street': 'Williams square', 'R_HouseNumber': '776', 'R_ZIP': 'DY7X 0YH', 'R_City': 'Amandatown', 'R_Country': 'United Kingdom', 'R_VAT': 'GB613121268', 'S_Name': 'Noble and Sons', 'S_Street': 'Neil plaza', 'S_HouseNumber': '1', 'S_ZIP': 'W66 8HJ', 'S_City': 'Jennatown', 'S_Country': 'United Kingdom', 'S_VAT': 'GB442522046', 'S_Bank': 'Barclays', 'S_BIC': 'BRABGBZ2', 'S_IBAN': 'GB11VULL12274070762307', 'S_Tel': '0116 4960690', 'S_Email': 'mblackburn@example.com', 'I_Number': '337819663', 'I_Amount': '698168174,57', 'I_Currency': 'GBP', 'Fax': '+44(0)151 496 0903', 'Website': 'www.nobleandsons.gb', 'Contact_name': 'Frank Evans', 'Start_date': '01.06.2019', 'End_date': '30.06.2019', 'I_Date': '30.06.2019', 'I_DueDate': '22.07.2019'}\n",
      "{'R_Name': 'Scarfoglio, Comencini e Aulenti e figli', 'R_Street': 'Borgo Ermanno', 'R_HouseNumber': '661', 'R_ZIP': '13010', 'R_City': 'Melissa', 'R_Country': 'Italy', 'R_VAT': 'IT409617965', 'S_Name': 'Moresi s.r.l.', 'S_Street': 'Borgo Annamaria', 'S_HouseNumber': '746', 'S_ZIP': '23834', 'S_City': \"Ca' Corniani\", 'S_Country': 'Italy', 'S_VAT': 'IT304772371', 'S_Bank': 'UBI Banca', 'S_BIC': 'TUAAITN1', 'S_IBAN': 'IT78X6243590319358921165375', 'S_Tel': '+39 057324461', 'S_Email': 'fpapetti@example.org', 'I_Number': '112018905', 'I_Amount': '0,22', 'I_Currency': 'EUR', 'Fax': '+39 03187266899', 'Website': 'www.moresisrl.it', 'Contact_name': 'Susanna Armellini', 'Start_date': '01.01.2018', 'End_date': '31.01.2018', 'I_Date': '31.01.2018', 'I_DueDate': '29.02.2018'}\n",
      "{'R_Name': 'FPUH Teodorowicz', 'R_Street': 'Zdrojowa', 'R_HouseNumber': '15', 'R_ZIP': '24-192', 'R_City': 'Cieszyn', 'R_Country': 'Poland', 'R_VAT': 'PL782868613', 'S_Name': 'Grupa Tryc', 'S_Street': 'Młyńska', 'S_HouseNumber': '43/99', 'S_ZIP': '31-539', 'S_City': 'Brzeg', 'S_Country': 'Poland', 'S_VAT': 'PL407930834', 'S_Bank': 'Santander Bank Polska', 'S_BIC': 'EKXTPLDM', 'S_IBAN': 'PL66467082741752868219629639', 'S_Tel': '+48 699 902 339', 'S_Email': 'aburchard@example.net', 'I_Number': '108385192', 'I_Amount': '8,76', 'I_Currency': 'PLN', 'Fax': '+48 32 971 58 61', 'Website': 'www.grupatryc.pl', 'Contact_name': 'Marek Iskierka', 'Start_date': '01.05.2023', 'End_date': '31.05.2023', 'I_Date': '31.05.2023', 'I_DueDate': '20.06.2023'}\n"
     ]
    }
   ],
   "source": [
    "from fakedata import Agder_Energi\n",
    "\n",
    "agder = Agder_Energi(5, True)\n",
    "fake_data = agder.get_fake_data()\n",
    "\n",
    "for _ in fake_data:\n",
    "    print(_)"
   ]
  }
 ],
 "metadata": {
  "kernelspec": {
   "display_name": "nlp",
   "language": "python",
   "name": "python3"
  },
  "language_info": {
   "codemirror_mode": {
    "name": "ipython",
    "version": 3
   },
   "file_extension": ".py",
   "mimetype": "text/x-python",
   "name": "python",
   "nbconvert_exporter": "python",
   "pygments_lexer": "ipython3",
   "version": "3.8.16"
  },
  "orig_nbformat": 4
 },
 "nbformat": 4,
 "nbformat_minor": 2
}
