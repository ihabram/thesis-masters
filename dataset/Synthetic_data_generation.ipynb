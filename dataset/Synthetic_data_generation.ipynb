{
 "cells": [
  {
   "attachments": {},
   "cell_type": "markdown",
   "metadata": {},
   "source": [
    "### 1. Read-in the labels"
   ]
  },
  {
   "cell_type": "code",
   "execution_count": 1,
   "metadata": {},
   "outputs": [],
   "source": [
    "import json\n",
    "\n",
    "label_dir = r'C:\\Users\\Habram\\Documents\\Datasets\\SER_custom\\AgderEnergiSolutionsGmbH_generation.json'\n",
    "f = open(label_dir)\n",
    "data = json.load(f)\n",
    "\n",
    "labels = dict()\n",
    "for elem in data['shapes']:\n",
    "    if elem['label'] in labels.keys():\n",
    "        labels[elem['label']].append(elem['points'])\n",
    "    else:\n",
    "        labels[elem['label']] = [elem['points']]"
   ]
  },
  {
   "attachments": {},
   "cell_type": "markdown",
   "metadata": {},
   "source": [
    "### 2. Generate fake data"
   ]
  },
  {
   "cell_type": "code",
   "execution_count": 1,
   "metadata": {},
   "outputs": [
    {
     "name": "stdout",
     "output_type": "stream",
     "text": [
      "{'R_Name': 'Goddard, Burke and Richards', 'R_Street': 'Turner knolls', 'R_HouseNumber': '672', 'R_ZIP': 'B5 4PG', 'R_City': 'Phillipton', 'R_Country': 'United Kingdom', 'R_VAT': 'GB748866368', 'S_Name': 'Lewis-Turner', 'S_Street': 'Joyce extensions', 'S_HouseNumber': '516', 'S_ZIP': 'M2F 2TN', 'S_City': 'New Lynne', 'S_Country': 'United Kingdom', 'S_VAT': 'GB351379533', 'S_Bank': 'Royal Bank of Scotland', 'S_BIC': 'XQWEGBZT', 'S_IBAN': 'GB87OTKZ96862272758858', 'S_Tel': '(029) 2018430', 'S_Email': 'kim53@example.org', 'I_Number': '903686749', 'I_Amount': '26,54', 'I_Currency': 'GBP', 'Fax': '+44131 4960931', 'Website': 'www.lewisturner.gb', 'Contact_name': 'Dr Jennifer Ball', 'Start_date': '01.10.2016', 'End_date': '31.10.2016', 'I_Date': '31.10.2016', 'I_DueDate': '26.11.2016'}\n",
      "{'R_Name': 'Blümel Lange e.V.', 'R_Street': 'Tina-Gierschner-Allee', 'R_HouseNumber': '1', 'R_ZIP': '29074', 'R_City': 'Saulgau', 'R_Country': 'Germany', 'R_VAT': 'DE348700305', 'S_Name': 'Sorgatz Mälzer GmbH & Co. KG', 'S_Street': 'Tomasz-Albers-Gasse', 'S_HouseNumber': '73', 'S_ZIP': '93856', 'S_City': 'Sankt Goar', 'S_Country': 'Germany', 'S_VAT': 'DE610745682', 'S_Bank': 'Bayerische Landesbank', 'S_BIC': 'GJHZDEW1', 'S_IBAN': 'DE61611549335314675614', 'S_Tel': '08114 003418', 'S_Email': 'kruschwitzbetti@example.com', 'I_Number': '466446622', 'I_Amount': '113116358,34', 'I_Currency': 'EUR', 'Fax': '+49(0) 841198769', 'Website': 'www.sorgatzmlzergmbhcokg.de', 'Contact_name': 'Detlef Schmiedecke', 'Start_date': '01.03.2016', 'End_date': '31.03.2016', 'I_Date': '31.03.2016', 'I_DueDate': '30.04.2016'}\n",
      "{'R_Name': 'Ross, Mitchell and Tomlinson', 'R_Street': 'Georgina port', 'R_HouseNumber': '303', 'R_ZIP': 'L76 5AN', 'R_City': 'North Leslie', 'R_Country': 'United Kingdom', 'R_VAT': 'GB629166192', 'S_Name': 'Robson LLC', 'S_Street': 'Hunter cliffs', 'S_HouseNumber': '8', 'S_ZIP': 'WV1R 7SF', 'S_City': 'Jakemouth', 'S_Country': 'United Kingdom', 'S_VAT': 'GB684890545', 'S_Bank': 'NatWest Group', 'S_BIC': 'MQQXGBHQ', 'S_IBAN': 'GB35ZEBQ38335622790092', 'S_Tel': '(0115) 4960232', 'S_Email': 'terrywilson@example.com', 'I_Number': '331394996', 'I_Amount': '83,76', 'I_Currency': 'GBP', 'Fax': '0117 4960521', 'Website': 'www.robsonllc.gb', 'Contact_name': 'Diane Moss', 'Start_date': '01.07.2015', 'End_date': '31.07.2015', 'I_Date': '31.07.2015', 'I_DueDate': '23.08.2015'}\n",
      "{'R_Name': 'Humphreys, Tomlinson and McCarthy', 'R_Street': 'Black walk', 'R_HouseNumber': '133', 'R_ZIP': 'B2S 9AP', 'R_City': 'Philipbury', 'R_Country': 'United Kingdom', 'R_VAT': 'GB104148078', 'S_Name': 'Schofield, Brown and Ferguson', 'S_Street': 'Margaret via', 'S_HouseNumber': '04', 'S_ZIP': 'WD5M 5ST', 'S_City': 'East Dominic', 'S_Country': 'United Kingdom', 'S_VAT': 'GB457124326', 'S_Bank': 'HSBC', 'S_BIC': 'ZEWVGBKD', 'S_IBAN': 'GB50UMAQ57772336050750', 'S_Tel': '(0161) 496 0798', 'S_Email': 'longanthony@example.net', 'I_Number': '399938540', 'I_Amount': '16551528,88', 'I_Currency': 'GBP', 'Fax': '+44(0)115 496 0361', 'Website': 'www.schofieldbrownandferguson.gb', 'Contact_name': 'Miss Christine Stephens', 'Start_date': '01.01.2021', 'End_date': '31.01.2021', 'I_Date': '31.01.2021', 'I_DueDate': '28.02.2021'}\n"
     ]
    }
   ],
   "source": [
    "from fakedata import Agder_Energi\n",
    "\n",
    "agder = Agder_Energi()\n",
    "fake_data = agder.get_fake_data(num_invoices=4, det=True)\n",
    "\n",
    "for _ in fake_data:\n",
    "    print(_)"
   ]
  },
  {
   "attachments": {},
   "cell_type": "markdown",
   "metadata": {},
   "source": [
    "### 3. Remove the existing data - create an empty invoice"
   ]
  },
  {
   "cell_type": "code",
   "execution_count": 3,
   "metadata": {},
   "outputs": [],
   "source": [
    "from invoice_annotation import CleanInvoice\n",
    "\n",
    "image_loc = r'C:\\Users\\Habram\\Documents\\Datasets\\SER_custom\\AgderEnergiSolutionsGmbH.tif'\n",
    "empty_loc = r'C:\\Users\\Habram\\Documents\\Datasets\\SER_custom\\AgderEnergiSolutionsGmbH_empty.tif'\n",
    "\n",
    "cleaner = CleanInvoice(image_loc=image_loc, output_loc=empty_loc)\n",
    "cleaner.clean_invoice(labels)"
   ]
  },
  {
   "attachments": {},
   "cell_type": "markdown",
   "metadata": {},
   "source": [
    "### 4. Fill the empty invoice with the fake data"
   ]
  },
  {
   "cell_type": "code",
   "execution_count": 10,
   "metadata": {},
   "outputs": [],
   "source": [
    "from PIL import Image, ImageDraw, ImageFont\n",
    "\n",
    "class FillInvoice():\n",
    "    def __init__(self) -> None:\n",
    "        pass\n",
    "\n",
    "invoice = Image.open(empty_loc)\n",
    "draw = ImageDraw.Draw(invoice)\n",
    "font = ImageFont.truetype(\"arial.ttf\", 30)\n",
    "draw.text((28, 36), \"Hello, TutorialsPoint!\", fill='black', font=font)\n",
    "invoice.show()"
   ]
  }
 ],
 "metadata": {
  "kernelspec": {
   "display_name": "nlp",
   "language": "python",
   "name": "python3"
  },
  "language_info": {
   "codemirror_mode": {
    "name": "ipython",
    "version": 3
   },
   "file_extension": ".py",
   "mimetype": "text/x-python",
   "name": "python",
   "nbconvert_exporter": "python",
   "pygments_lexer": "ipython3",
   "version": "3.8.16"
  },
  "orig_nbformat": 4
 },
 "nbformat": 4,
 "nbformat_minor": 2
}
