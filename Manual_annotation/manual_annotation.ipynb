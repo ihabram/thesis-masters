{
 "cells": [
  {
   "cell_type": "code",
   "execution_count": null,
   "metadata": {},
   "outputs": [],
   "source": [
    "from transformers import LayoutLMv2ImageProcessor\n",
    "\n",
    "image_processor = LayoutLMv2ImageProcessor(apply_ocr=True)"
   ]
  },
  {
   "cell_type": "code",
   "execution_count": null,
   "metadata": {},
   "outputs": [],
   "source": [
    "from PIL import Image\n",
    "\n",
    "invoice = Image.open(r'C:\\Users\\Habram\\Documents\\Datasets\\SER_annotated_manual\\Erdgas_1.tif')\n",
    "invoice = invoice.convert('RGB')\n",
    "\n",
    "img_features = image_processor(invoice, return_tensors='pt')\n",
    "image = img_features['pixel_values']\n",
    "words = img_features['words'][0]\n",
    "boxes = img_features['boxes'][0]"
   ]
  },
  {
   "cell_type": "code",
   "execution_count": null,
   "metadata": {},
   "outputs": [],
   "source": [
    "from PIL import ImageDraw, ImageFont\n",
    "\n",
    "draw = ImageDraw.Draw(invoice)\n",
    "font = ImageFont.load_default()\n",
    "width, height = invoice.size\n",
    "\n",
    "def unnormalize_box(bbox, width, height):\n",
    "     return [\n",
    "         width * (bbox[0] / 1000),\n",
    "         height * (bbox[1] / 1000),\n",
    "         width * (bbox[2] / 1000),\n",
    "         height * (bbox[3] / 1000),\n",
    "     ]\n",
    "\n",
    "for box, word in zip(boxes, words):\n",
    "    box_normalized = unnormalize_box(box, width, height)\n",
    "    # Draw the label bounding box and name on the invoice\n",
    "    draw.rectangle(box_normalized, outline='red')\n",
    "    try:\n",
    "        draw.text((box_normalized[0] + 10, box_normalized[1] - 10), text=word, fill='red', font=font)\n",
    "    except:\n",
    "        draw.text((box_normalized[0] + 10, box_normalized[1] - 10), text='Something', fill='red', font=font)\n",
    "\n",
    "invoice.show()"
   ]
  },
  {
   "cell_type": "code",
   "execution_count": null,
   "metadata": {},
   "outputs": [],
   "source": [
    "annotation = []\n",
    "\n",
    "for box, word in zip(boxes, words):\n",
    "    annotation.append({\n",
    "        \"text\": word,\n",
    "        \"label\": \"Other\",\n",
    "        \"box\": box,\n",
    "        \"words\": [{\n",
    "            \"box\": box,\n",
    "            \"text\": word\n",
    "        }]\n",
    "    })"
   ]
  },
  {
   "cell_type": "code",
   "execution_count": null,
   "metadata": {},
   "outputs": [],
   "source": [
    "import json\n",
    "with open(r'C:\\Users\\Habram\\Documents\\Datasets\\SER_annotated_manual\\Erdgas_1.json', 'w') as f:\n",
    "    json.dump(annotation, f)"
   ]
  },
  {
   "cell_type": "code",
   "execution_count": null,
   "metadata": {},
   "outputs": [],
   "source": [
    "import json\n",
    "\n",
    "# Opening JSON file\n",
    "f = open(r'C:\\Users\\Habram\\Documents\\Datasets\\SER_annotated_manual\\aa.json')\n",
    "  \n",
    "# returns JSON object as \n",
    "# a dictionary\n",
    "data = json.load(f)"
   ]
  },
  {
   "cell_type": "code",
   "execution_count": null,
   "metadata": {},
   "outputs": [],
   "source": [
    "new_data = []\n",
    "\n",
    "for idx, entry in enumerate(data):\n",
    "    # Beginning of a new block\n",
    "    if entry['label'].startswith('b'):\n",
    "        # Get the block's label type\n",
    "        label_type = entry['label'][1:]\n",
    "        # Remove the 'b' from the beginning\n",
    "        entry['label'] = label_type\n",
    "        # Put to the new data\n",
    "        new_data.append(entry)\n",
    "    # If the label is 'd', it means delete, do not include to the new \n",
    "    elif entry['label'] == 'd':\n",
    "        continue\n",
    "    # If the label is just a regular label\n",
    "    else:\n",
    "        # If it belongs to a block\n",
    "        if entry['label'] == new_data[-1]['label']:\n",
    "            new_data[-1]['text'] += ' ' + entry['text']\n",
    "            new_data[-1]['words'].append(entry['words'][0])\n",
    "        # If it is a 1-word label\n",
    "        else:\n",
    "            # Put to the new data\n",
    "            new_data.append(entry)\n",
    "\n",
    "# Fix the block bounding boxes\n",
    "for idx, entry in enumerate(new_data):\n",
    "    # If the block has multiple words\n",
    "    if len(entry['words']) > 1:\n",
    "        x1, y1, x2, y2 = 15000, 15000, 0, 0\n",
    "        for word in entry['words']:\n",
    "            if x1 > word['box'][0]: x1 = word['box'][0]\n",
    "            if y1 > word['box'][1]: y1 = word['box'][1]\n",
    "            if x2 < word['box'][2]: x2 = word['box'][2]\n",
    "            if y2 < word['box'][3]: y2 = word['box'][3]\n",
    "        entry['box'] = [x1, y1, x2, y2]\n",
    "    # If it is a one-word block\n",
    "    else:\n",
    "        continue"
   ]
  },
  {
   "cell_type": "code",
   "execution_count": null,
   "metadata": {},
   "outputs": [],
   "source": [
    "from PIL import ImageDraw, ImageFont, Image\n",
    "\n",
    "invoice = Image.open(r'C:\\Users\\Habram\\Documents\\Datasets\\SER_annotated_manual\\Erdgas_1.tif')\n",
    "invoice = invoice.convert('RGB')\n",
    "\n",
    "draw = ImageDraw.Draw(invoice)\n",
    "font = ImageFont.load_default()\n",
    "width, height = invoice.size\n",
    "\n",
    "def unnormalize_box(bbox, width, height):\n",
    "     return [\n",
    "         width * (bbox[0] / 1000),\n",
    "         height * (bbox[1] / 1000),\n",
    "         width * (bbox[2] / 1000),\n",
    "         height * (bbox[3] / 1000),\n",
    "     ]\n",
    "\n",
    "for entry in new_data:\n",
    "    box = unnormalize_box(entry['box'], width, height)\n",
    "    draw.rectangle(box, outline='red')\n",
    "    draw.text((box[0] + 10, box[1] - 10), text=entry['label'], fill='red', font=font)\n",
    "    \n",
    "    for word in entry['words']:\n",
    "        draw.rectangle(unnormalize_box(word['box'], width, height), outline='grey')\n",
    "\n",
    "invoice.show()"
   ]
  }
 ],
 "metadata": {
  "kernelspec": {
   "display_name": "LayoutXLM",
   "language": "python",
   "name": "python3"
  },
  "language_info": {
   "codemirror_mode": {
    "name": "ipython",
    "version": 3
   },
   "file_extension": ".py",
   "mimetype": "text/x-python",
   "name": "python",
   "nbconvert_exporter": "python",
   "pygments_lexer": "ipython3",
   "version": "3.8.16"
  },
  "orig_nbformat": 4
 },
 "nbformat": 4,
 "nbformat_minor": 2
}
