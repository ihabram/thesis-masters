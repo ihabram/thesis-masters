{
 "cells": [
  {
   "cell_type": "code",
   "execution_count": 1,
   "metadata": {},
   "outputs": [
    {
     "name": "stderr",
     "output_type": "stream",
     "text": [
      "c:\\Users\\Habram\\Anaconda3\\envs\\LayoutXLM\\lib\\site-packages\\tqdm\\auto.py:21: TqdmWarning: IProgress not found. Please update jupyter and ipywidgets. See https://ipywidgets.readthedocs.io/en/stable/user_install.html\n",
      "  from .autonotebook import tqdm as notebook_tqdm\n"
     ]
    }
   ],
   "source": [
    "from transformers import LayoutLMv2ImageProcessor\n",
    "\n",
    "image_processor = LayoutLMv2ImageProcessor(apply_ocr=True)"
   ]
  },
  {
   "cell_type": "code",
   "execution_count": 43,
   "metadata": {},
   "outputs": [],
   "source": [
    "from PIL import Image\n",
    "\n",
    "dir = r'C:\\Users\\Habram\\Documents\\Datasets\\SER_annotated_manual'\n",
    "''' !!!Define the file HERE!!!'''\n",
    "file = r'\\VDE'\n",
    "\n",
    "invoice = Image.open(dir + file + '.tif')\n",
    "invoice = invoice.convert('RGB')\n",
    "\n",
    "img_features = image_processor(invoice, return_tensors='pt')\n",
    "image = img_features['pixel_values']\n",
    "words = img_features['words'][0]\n",
    "boxes = img_features['boxes'][0]"
   ]
  },
  {
   "cell_type": "code",
   "execution_count": 44,
   "metadata": {},
   "outputs": [],
   "source": [
    "from PIL import ImageDraw, ImageFont\n",
    "\n",
    "draw = ImageDraw.Draw(invoice)\n",
    "font = ImageFont.load_default()\n",
    "width, height = invoice.size\n",
    "\n",
    "def unnormalize_box(bbox, width, height):\n",
    "     return [\n",
    "         int(width * (bbox[0] / 1000)),\n",
    "         int(height * (bbox[1] / 1000)),\n",
    "         int(width * (bbox[2] / 1000)),\n",
    "         int(height * (bbox[3] / 1000)),\n",
    "     ]\n",
    "\n",
    "boxes_unnormalized = []\n",
    "for box in boxes:\n",
    "    boxes_unnormalized.append(unnormalize_box(box, width, height))\n",
    "\n",
    "for box, word in zip(boxes_unnormalized, words):\n",
    "    # Draw the label bounding box and name on the invoice\n",
    "    draw.rectangle(box, outline='red')\n",
    "    try:\n",
    "        draw.text((box[0] + 10, box[1] - 10), text=word, fill='red', font=font)\n",
    "    except:\n",
    "        draw.text((box[0] + 10, box[1] - 10), text='Something', fill='red', font=font)\n",
    "\n",
    "invoice.show()"
   ]
  },
  {
   "cell_type": "code",
   "execution_count": 45,
   "metadata": {},
   "outputs": [],
   "source": [
    "annotation = []\n",
    "\n",
    "for box, word in zip(boxes_unnormalized, words):\n",
    "    annotation.append({\n",
    "        \"text\": word,\n",
    "        \"label\": \"Other\",\n",
    "        \"box\": box,\n",
    "        \"words\": [{\n",
    "            \"box\": box,\n",
    "            \"text\": word\n",
    "        }]\n",
    "    })"
   ]
  },
  {
   "cell_type": "code",
   "execution_count": 46,
   "metadata": {},
   "outputs": [],
   "source": [
    "import json\n",
    "\n",
    "with open(dir + file + '_raw.json', 'w') as f:\n",
    "    json.dump(annotation, f)\n",
    "\n",
    "with open(dir + file + '_hand.json', 'w') as f:\n",
    "    json.dump(annotation, f)    "
   ]
  },
  {
   "cell_type": "markdown",
   "metadata": {},
   "source": [
    "# Manual work comes here\n",
    "# Work on the file with '_hand.json' ending"
   ]
  },
  {
   "cell_type": "code",
   "execution_count": 49,
   "metadata": {},
   "outputs": [],
   "source": [
    "import json\n",
    "\n",
    "# Opening JSON file\n",
    "f = open(dir + file + '_hand.json')\n",
    "  \n",
    "# returns JSON object as \n",
    "# a dictionary\n",
    "data = json.load(f)"
   ]
  },
  {
   "cell_type": "code",
   "execution_count": 50,
   "metadata": {},
   "outputs": [],
   "source": [
    "new_data = []\n",
    "\n",
    "for idx, entry in enumerate(data):\n",
    "    # Beginning of a new block\n",
    "    if entry['label'].startswith('b'):\n",
    "        # Get the block's label type\n",
    "        label_type = entry['label'][1:]\n",
    "        # Remove the 'b' from the beginning\n",
    "        entry['label'] = label_type\n",
    "        # Put to the new data\n",
    "        new_data.append(entry)\n",
    "    # If the label is 'd', it means delete, do not include to the new \n",
    "    elif entry['label'] == 'd':\n",
    "        continue\n",
    "    # If the label is just a regular label\n",
    "    else:\n",
    "        # If it belongs to a block\n",
    "        if entry['label'] == new_data[-1]['label']:\n",
    "            new_data[-1]['text'] += ' ' + entry['text']\n",
    "            new_data[-1]['words'].append(entry['words'][0])\n",
    "        # If it is a 1-word label\n",
    "        else:\n",
    "            # Put to the new data\n",
    "            new_data.append(entry)\n",
    "\n",
    "# Fix the block bounding boxes\n",
    "for idx, entry in enumerate(new_data):\n",
    "    # If the block has multiple words\n",
    "    if len(entry['words']) > 1:\n",
    "        x1, y1, x2, y2 = 15000, 15000, 0, 0\n",
    "        for word in entry['words']:\n",
    "            if x1 > word['box'][0]: x1 = word['box'][0]\n",
    "            if y1 > word['box'][1]: y1 = word['box'][1]\n",
    "            if x2 < word['box'][2]: x2 = word['box'][2]\n",
    "            if y2 < word['box'][3]: y2 = word['box'][3]\n",
    "        entry['box'] = [x1, y1, x2, y2]\n",
    "    # If it is a one-word block\n",
    "    else:\n",
    "        continue"
   ]
  },
  {
   "cell_type": "code",
   "execution_count": 52,
   "metadata": {},
   "outputs": [],
   "source": [
    "import json\n",
    "with open(dir + '/annotations/' + file + '.json', 'w') as f:\n",
    "    json.dump(new_data, f)"
   ]
  },
  {
   "cell_type": "code",
   "execution_count": 51,
   "metadata": {},
   "outputs": [],
   "source": [
    "from PIL import ImageDraw, ImageFont, Image\n",
    "\n",
    "invoice = Image.open(dir + file + '.tif')\n",
    "invoice = invoice.convert('RGB')\n",
    "\n",
    "draw = ImageDraw.Draw(invoice)\n",
    "font = ImageFont.load_default()\n",
    "\n",
    "\n",
    "for entry in new_data:\n",
    "    for word in entry['words']:\n",
    "        draw.rectangle(word['box'], outline='grey')\n",
    "        \n",
    "    box = entry['box']\n",
    "    if entry['label'] == 'Other':\n",
    "        draw.rectangle(box, outline='green')\n",
    "        draw.text((box[0] + 10, box[1] - 10), text=entry['label'], fill='green', font=font)\n",
    "    else:\n",
    "        draw.rectangle(box, outline='red')\n",
    "        draw.text((box[0] + 10, box[1] - 10), text=entry['label'], fill='red', font=font)\n",
    "\n",
    "invoice.show()"
   ]
  },
  {
   "cell_type": "markdown",
   "metadata": {},
   "source": [
    "# Generate dataset from files"
   ]
  },
  {
   "cell_type": "code",
   "execution_count": null,
   "metadata": {},
   "outputs": [],
   "source": [
    "import os\n",
    "\n",
    "filepath = r'C:\\Users\\Habram\\Documents\\Datasets\\SER_annotated_manual'\n",
    "ann_dir = os.path.join(filepath, \"annotations\")\n",
    "img_dir = os.path.join(filepath, \"images\")\n",
    "\n",
    "for guid, file in enumerate(sorted(os.listdir(ann_dir))):\n",
    "    file_path = os.path.join(ann_dir, file)\n",
    "    with open(file_path, \"r\", encoding=\"utf8\") as f:\n",
    "        data = json.load(f)\n",
    "    image_path = os.path.join(img_dir, file)\n",
    "    image_path = image_path.replace(\"json\", \"tif\")\n",
    "    invoice = Image.open(image_path)\n",
    "    invoice = invoice.convert('RGB')\n",
    "    width, height = invoice.size\n",
    "\n",
    "    print(width, height)\n",
    "\n",
    "    for block in data:\n",
    "        block['box'] = unnormalize_box(block['box'], width, height)\n",
    "        for word in block['words']:\n",
    "            word['box'] = unnormalize_box(word['box'], width, height)\n",
    "\n",
    "    with open(file_path, 'w') as f:\n",
    "        json.dump(data, f)  "
   ]
  },
  {
   "cell_type": "code",
   "execution_count": null,
   "metadata": {},
   "outputs": [],
   "source": [
    "for entry in data:\n",
    "    print(entry['box'])\n",
    "    break"
   ]
  }
 ],
 "metadata": {
  "kernelspec": {
   "display_name": "LayoutXLM",
   "language": "python",
   "name": "python3"
  },
  "language_info": {
   "codemirror_mode": {
    "name": "ipython",
    "version": 3
   },
   "file_extension": ".py",
   "mimetype": "text/x-python",
   "name": "python",
   "nbconvert_exporter": "python",
   "pygments_lexer": "ipython3",
   "version": "3.8.16"
  },
  "orig_nbformat": 4
 },
 "nbformat": 4,
 "nbformat_minor": 2
}
