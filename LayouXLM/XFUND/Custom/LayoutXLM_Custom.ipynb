{
 "cells": [
  {
   "attachments": {},
   "cell_type": "markdown",
   "metadata": {},
   "source": [
    "### Load the dataset"
   ]
  },
  {
   "cell_type": "code",
   "execution_count": 10,
   "metadata": {},
   "outputs": [
    {
     "name": "stdout",
     "output_type": "stream",
     "text": [
      "Downloading and preparing dataset istvoices_dataset_de/default to C:/Users/Habram/.cache/istvoices_dataset_de/default/0.0.0/1f9f58bf326613f8f47333b34087510d0faf21ae9d46bc895f367a6c1810165e...\n"
     ]
    },
    {
     "name": "stderr",
     "output_type": "stream",
     "text": [
      "                                                        \r"
     ]
    },
    {
     "ename": "DatasetGenerationError",
     "evalue": "An error occurred while generating the dataset",
     "output_type": "error",
     "traceback": [
      "\u001b[1;31m---------------------------------------------------------------------------\u001b[0m",
      "\u001b[1;31mValueError\u001b[0m                                Traceback (most recent call last)",
      "File \u001b[1;32mc:\\Users\\Habram\\Anaconda3\\envs\\LayoutXLM\\lib\\site-packages\\datasets\\builder.py:1646\u001b[0m, in \u001b[0;36mGeneratorBasedBuilder._prepare_split_single\u001b[1;34m(self, gen_kwargs, fpath, file_format, max_shard_size, split_info, check_duplicate_keys, job_id)\u001b[0m\n\u001b[0;32m   1637\u001b[0m     writer \u001b[39m=\u001b[39m writer_class(\n\u001b[0;32m   1638\u001b[0m         features\u001b[39m=\u001b[39mwriter\u001b[39m.\u001b[39m_features,\n\u001b[0;32m   1639\u001b[0m         path\u001b[39m=\u001b[39mfpath\u001b[39m.\u001b[39mreplace(\u001b[39m\"\u001b[39m\u001b[39mSSSSS\u001b[39m\u001b[39m\"\u001b[39m, \u001b[39mf\u001b[39m\u001b[39m\"\u001b[39m\u001b[39m{\u001b[39;00mshard_id\u001b[39m:\u001b[39;00m\u001b[39m05d\u001b[39m\u001b[39m}\u001b[39;00m\u001b[39m\"\u001b[39m)\u001b[39m.\u001b[39mreplace(\u001b[39m\"\u001b[39m\u001b[39mJJJJJ\u001b[39m\u001b[39m\"\u001b[39m, \u001b[39mf\u001b[39m\u001b[39m\"\u001b[39m\u001b[39m{\u001b[39;00mjob_id\u001b[39m:\u001b[39;00m\u001b[39m05d\u001b[39m\u001b[39m}\u001b[39;00m\u001b[39m\"\u001b[39m),\n\u001b[1;32m   (...)\u001b[0m\n\u001b[0;32m   1644\u001b[0m         embed_local_files\u001b[39m=\u001b[39membed_local_files,\n\u001b[0;32m   1645\u001b[0m     )\n\u001b[1;32m-> 1646\u001b[0m example \u001b[39m=\u001b[39m \u001b[39mself\u001b[39;49m\u001b[39m.\u001b[39;49minfo\u001b[39m.\u001b[39;49mfeatures\u001b[39m.\u001b[39;49mencode_example(record) \u001b[39mif\u001b[39;00m \u001b[39mself\u001b[39m\u001b[39m.\u001b[39minfo\u001b[39m.\u001b[39mfeatures \u001b[39mis\u001b[39;00m \u001b[39mnot\u001b[39;00m \u001b[39mNone\u001b[39;00m \u001b[39melse\u001b[39;00m record\n\u001b[0;32m   1647\u001b[0m writer\u001b[39m.\u001b[39mwrite(example, key)\n",
      "File \u001b[1;32mc:\\Users\\Habram\\Anaconda3\\envs\\LayoutXLM\\lib\\site-packages\\datasets\\features\\features.py:1851\u001b[0m, in \u001b[0;36mFeatures.encode_example\u001b[1;34m(self, example)\u001b[0m\n\u001b[0;32m   1850\u001b[0m example \u001b[39m=\u001b[39m cast_to_python_objects(example)\n\u001b[1;32m-> 1851\u001b[0m \u001b[39mreturn\u001b[39;00m encode_nested_example(\u001b[39mself\u001b[39;49m, example)\n",
      "File \u001b[1;32mc:\\Users\\Habram\\Anaconda3\\envs\\LayoutXLM\\lib\\site-packages\\datasets\\features\\features.py:1229\u001b[0m, in \u001b[0;36mencode_nested_example\u001b[1;34m(schema, obj, level)\u001b[0m\n\u001b[0;32m   1227\u001b[0m         \u001b[39mraise\u001b[39;00m \u001b[39mValueError\u001b[39;00m(\u001b[39m\"\u001b[39m\u001b[39mGot None but expected a dictionary instead\u001b[39m\u001b[39m\"\u001b[39m)\n\u001b[0;32m   1228\u001b[0m     \u001b[39mreturn\u001b[39;00m (\n\u001b[1;32m-> 1229\u001b[0m         {\n\u001b[0;32m   1230\u001b[0m             k: encode_nested_example(sub_schema, sub_obj, level\u001b[39m=\u001b[39mlevel \u001b[39m+\u001b[39m \u001b[39m1\u001b[39m)\n\u001b[0;32m   1231\u001b[0m             \u001b[39mfor\u001b[39;00m k, (sub_schema, sub_obj) \u001b[39min\u001b[39;00m zip_dict(schema, obj)\n\u001b[0;32m   1232\u001b[0m         }\n\u001b[0;32m   1233\u001b[0m         \u001b[39mif\u001b[39;00m obj \u001b[39mis\u001b[39;00m \u001b[39mnot\u001b[39;00m \u001b[39mNone\u001b[39;00m\n\u001b[0;32m   1234\u001b[0m         \u001b[39melse\u001b[39;00m \u001b[39mNone\u001b[39;00m\n\u001b[0;32m   1235\u001b[0m     )\n\u001b[0;32m   1237\u001b[0m \u001b[39melif\u001b[39;00m \u001b[39misinstance\u001b[39m(schema, (\u001b[39mlist\u001b[39m, \u001b[39mtuple\u001b[39m)):\n",
      "File \u001b[1;32mc:\\Users\\Habram\\Anaconda3\\envs\\LayoutXLM\\lib\\site-packages\\datasets\\features\\features.py:1230\u001b[0m, in \u001b[0;36m<dictcomp>\u001b[1;34m(.0)\u001b[0m\n\u001b[0;32m   1227\u001b[0m         \u001b[39mraise\u001b[39;00m \u001b[39mValueError\u001b[39;00m(\u001b[39m\"\u001b[39m\u001b[39mGot None but expected a dictionary instead\u001b[39m\u001b[39m\"\u001b[39m)\n\u001b[0;32m   1228\u001b[0m     \u001b[39mreturn\u001b[39;00m (\n\u001b[0;32m   1229\u001b[0m         {\n\u001b[1;32m-> 1230\u001b[0m             k: encode_nested_example(sub_schema, sub_obj, level\u001b[39m=\u001b[39;49mlevel \u001b[39m+\u001b[39;49m \u001b[39m1\u001b[39;49m)\n\u001b[0;32m   1231\u001b[0m             \u001b[39mfor\u001b[39;00m k, (sub_schema, sub_obj) \u001b[39min\u001b[39;00m zip_dict(schema, obj)\n\u001b[0;32m   1232\u001b[0m         }\n\u001b[0;32m   1233\u001b[0m         \u001b[39mif\u001b[39;00m obj \u001b[39mis\u001b[39;00m \u001b[39mnot\u001b[39;00m \u001b[39mNone\u001b[39;00m\n\u001b[0;32m   1234\u001b[0m         \u001b[39melse\u001b[39;00m \u001b[39mNone\u001b[39;00m\n\u001b[0;32m   1235\u001b[0m     )\n\u001b[0;32m   1237\u001b[0m \u001b[39melif\u001b[39;00m \u001b[39misinstance\u001b[39m(schema, (\u001b[39mlist\u001b[39m, \u001b[39mtuple\u001b[39m)):\n",
      "File \u001b[1;32mc:\\Users\\Habram\\Anaconda3\\envs\\LayoutXLM\\lib\\site-packages\\datasets\\features\\features.py:1279\u001b[0m, in \u001b[0;36mencode_nested_example\u001b[1;34m(schema, obj, level)\u001b[0m\n\u001b[0;32m   1275\u001b[0m     \u001b[39mif\u001b[39;00m (\n\u001b[0;32m   1276\u001b[0m         \u001b[39mnot\u001b[39;00m \u001b[39misinstance\u001b[39m(first_elmt, \u001b[39mlist\u001b[39m)\n\u001b[0;32m   1277\u001b[0m         \u001b[39mor\u001b[39;00m encode_nested_example(schema\u001b[39m.\u001b[39mfeature, first_elmt, level\u001b[39m=\u001b[39mlevel \u001b[39m+\u001b[39m \u001b[39m1\u001b[39m) \u001b[39m!=\u001b[39m first_elmt\n\u001b[0;32m   1278\u001b[0m     ):\n\u001b[1;32m-> 1279\u001b[0m         \u001b[39mreturn\u001b[39;00m [encode_nested_example(schema\u001b[39m.\u001b[39mfeature, o, level\u001b[39m=\u001b[39mlevel \u001b[39m+\u001b[39m \u001b[39m1\u001b[39m) \u001b[39mfor\u001b[39;00m o \u001b[39min\u001b[39;00m obj]\n\u001b[0;32m   1280\u001b[0m \u001b[39mreturn\u001b[39;00m \u001b[39mlist\u001b[39m(obj)\n",
      "File \u001b[1;32mc:\\Users\\Habram\\Anaconda3\\envs\\LayoutXLM\\lib\\site-packages\\datasets\\features\\features.py:1279\u001b[0m, in \u001b[0;36m<listcomp>\u001b[1;34m(.0)\u001b[0m\n\u001b[0;32m   1275\u001b[0m     \u001b[39mif\u001b[39;00m (\n\u001b[0;32m   1276\u001b[0m         \u001b[39mnot\u001b[39;00m \u001b[39misinstance\u001b[39m(first_elmt, \u001b[39mlist\u001b[39m)\n\u001b[0;32m   1277\u001b[0m         \u001b[39mor\u001b[39;00m encode_nested_example(schema\u001b[39m.\u001b[39mfeature, first_elmt, level\u001b[39m=\u001b[39mlevel \u001b[39m+\u001b[39m \u001b[39m1\u001b[39m) \u001b[39m!=\u001b[39m first_elmt\n\u001b[0;32m   1278\u001b[0m     ):\n\u001b[1;32m-> 1279\u001b[0m         \u001b[39mreturn\u001b[39;00m [encode_nested_example(schema\u001b[39m.\u001b[39;49mfeature, o, level\u001b[39m=\u001b[39;49mlevel \u001b[39m+\u001b[39;49m \u001b[39m1\u001b[39;49m) \u001b[39mfor\u001b[39;00m o \u001b[39min\u001b[39;00m obj]\n\u001b[0;32m   1280\u001b[0m \u001b[39mreturn\u001b[39;00m \u001b[39mlist\u001b[39m(obj)\n",
      "File \u001b[1;32mc:\\Users\\Habram\\Anaconda3\\envs\\LayoutXLM\\lib\\site-packages\\datasets\\features\\features.py:1284\u001b[0m, in \u001b[0;36mencode_nested_example\u001b[1;34m(schema, obj, level)\u001b[0m\n\u001b[0;32m   1283\u001b[0m \u001b[39melif\u001b[39;00m \u001b[39misinstance\u001b[39m(schema, (Audio, Image, ClassLabel, TranslationVariableLanguages, Value, _ArrayXD)):\n\u001b[1;32m-> 1284\u001b[0m     \u001b[39mreturn\u001b[39;00m schema\u001b[39m.\u001b[39;49mencode_example(obj) \u001b[39mif\u001b[39;00m obj \u001b[39mis\u001b[39;00m \u001b[39mnot\u001b[39;00m \u001b[39mNone\u001b[39;00m \u001b[39melse\u001b[39;00m \u001b[39mNone\u001b[39;00m\n\u001b[0;32m   1285\u001b[0m \u001b[39m# Other object should be directly convertible to a native Arrow type (like Translation and Translation)\u001b[39;00m\n",
      "File \u001b[1;32mc:\\Users\\Habram\\Anaconda3\\envs\\LayoutXLM\\lib\\site-packages\\datasets\\features\\features.py:1075\u001b[0m, in \u001b[0;36mClassLabel.encode_example\u001b[1;34m(self, example_data)\u001b[0m\n\u001b[0;32m   1074\u001b[0m \u001b[39mif\u001b[39;00m \u001b[39misinstance\u001b[39m(example_data, \u001b[39mstr\u001b[39m):\n\u001b[1;32m-> 1075\u001b[0m     example_data \u001b[39m=\u001b[39m \u001b[39mself\u001b[39;49m\u001b[39m.\u001b[39;49mstr2int(example_data)\n\u001b[0;32m   1077\u001b[0m \u001b[39m# Allowing -1 to mean no label.\u001b[39;00m\n",
      "File \u001b[1;32mc:\\Users\\Habram\\Anaconda3\\envs\\LayoutXLM\\lib\\site-packages\\datasets\\features\\features.py:1012\u001b[0m, in \u001b[0;36mClassLabel.str2int\u001b[1;34m(self, values)\u001b[0m\n\u001b[0;32m   1010\u001b[0m     return_list \u001b[39m=\u001b[39m \u001b[39mFalse\u001b[39;00m\n\u001b[1;32m-> 1012\u001b[0m output \u001b[39m=\u001b[39m [\u001b[39mself\u001b[39m\u001b[39m.\u001b[39m_strval2int(value) \u001b[39mfor\u001b[39;00m value \u001b[39min\u001b[39;00m values]\n\u001b[0;32m   1013\u001b[0m \u001b[39mreturn\u001b[39;00m output \u001b[39mif\u001b[39;00m return_list \u001b[39melse\u001b[39;00m output[\u001b[39m0\u001b[39m]\n",
      "File \u001b[1;32mc:\\Users\\Habram\\Anaconda3\\envs\\LayoutXLM\\lib\\site-packages\\datasets\\features\\features.py:1012\u001b[0m, in \u001b[0;36m<listcomp>\u001b[1;34m(.0)\u001b[0m\n\u001b[0;32m   1010\u001b[0m     return_list \u001b[39m=\u001b[39m \u001b[39mFalse\u001b[39;00m\n\u001b[1;32m-> 1012\u001b[0m output \u001b[39m=\u001b[39m [\u001b[39mself\u001b[39;49m\u001b[39m.\u001b[39;49m_strval2int(value) \u001b[39mfor\u001b[39;00m value \u001b[39min\u001b[39;00m values]\n\u001b[0;32m   1013\u001b[0m \u001b[39mreturn\u001b[39;00m output \u001b[39mif\u001b[39;00m return_list \u001b[39melse\u001b[39;00m output[\u001b[39m0\u001b[39m]\n",
      "File \u001b[1;32mc:\\Users\\Habram\\Anaconda3\\envs\\LayoutXLM\\lib\\site-packages\\datasets\\features\\features.py:1033\u001b[0m, in \u001b[0;36mClassLabel._strval2int\u001b[1;34m(self, value)\u001b[0m\n\u001b[0;32m   1032\u001b[0m \u001b[39mif\u001b[39;00m failed_parse:\n\u001b[1;32m-> 1033\u001b[0m     \u001b[39mraise\u001b[39;00m \u001b[39mValueError\u001b[39;00m(\u001b[39mf\u001b[39m\u001b[39m\"\u001b[39m\u001b[39mInvalid string class label \u001b[39m\u001b[39m{\u001b[39;00mvalue\u001b[39m}\u001b[39;00m\u001b[39m\"\u001b[39m)\n\u001b[0;32m   1034\u001b[0m \u001b[39mreturn\u001b[39;00m int_value\n",
      "\u001b[1;31mValueError\u001b[0m: Invalid string class label B-S_VAT",
      "\nThe above exception was the direct cause of the following exception:\n",
      "\u001b[1;31mDatasetGenerationError\u001b[0m                    Traceback (most recent call last)",
      "Cell \u001b[1;32mIn[10], line 6\u001b[0m\n\u001b[0;32m      1\u001b[0m \u001b[39mfrom\u001b[39;00m \u001b[39mdatasets\u001b[39;00m \u001b[39mimport\u001b[39;00m load_dataset\n\u001b[0;32m      3\u001b[0m \u001b[39m# Load the custom dataset (or it if it does not exist)\u001b[39;00m\n\u001b[0;32m      4\u001b[0m \u001b[39m# Param 1: location of the dataset loader script\u001b[39;00m\n\u001b[0;32m      5\u001b[0m \u001b[39m# Param 2: location of cache folder, where the dataset will be saved\u001b[39;00m\n\u001b[1;32m----> 6\u001b[0m dataset \u001b[39m=\u001b[39m load_dataset(\u001b[39mr\u001b[39;49m\u001b[39m'\u001b[39;49m\u001b[39mC:\u001b[39;49m\u001b[39m\\\u001b[39;49m\u001b[39mUsers\u001b[39;49m\u001b[39m\\\u001b[39;49m\u001b[39mHabram\u001b[39;49m\u001b[39m\\\u001b[39;49m\u001b[39mDocuments\u001b[39;49m\u001b[39m\\\u001b[39;49m\u001b[39mthesis-masters\u001b[39;49m\u001b[39m\\\u001b[39;49m\u001b[39mIstVoices_de\u001b[39;49m\u001b[39m\\\u001b[39;49m\u001b[39mistvoices_dataset_de.py\u001b[39;49m\u001b[39m'\u001b[39;49m,\n\u001b[0;32m      7\u001b[0m                        cache_dir\u001b[39m=\u001b[39;49m\u001b[39mr\u001b[39;49m\u001b[39m'\u001b[39;49m\u001b[39mC:\u001b[39;49m\u001b[39m\\\u001b[39;49m\u001b[39mUsers\u001b[39;49m\u001b[39m\\\u001b[39;49m\u001b[39mHabram\u001b[39;49m\u001b[39m\\\u001b[39;49m\u001b[39m.cache\u001b[39;49m\u001b[39m'\u001b[39;49m)\n",
      "File \u001b[1;32mc:\\Users\\Habram\\Anaconda3\\envs\\LayoutXLM\\lib\\site-packages\\datasets\\load.py:1809\u001b[0m, in \u001b[0;36mload_dataset\u001b[1;34m(path, name, data_dir, data_files, split, cache_dir, features, download_config, download_mode, verification_mode, ignore_verifications, keep_in_memory, save_infos, revision, use_auth_token, task, streaming, num_proc, storage_options, **config_kwargs)\u001b[0m\n\u001b[0;32m   1806\u001b[0m try_from_hf_gcs \u001b[39m=\u001b[39m path \u001b[39mnot\u001b[39;00m \u001b[39min\u001b[39;00m _PACKAGED_DATASETS_MODULES\n\u001b[0;32m   1808\u001b[0m \u001b[39m# Download and prepare data\u001b[39;00m\n\u001b[1;32m-> 1809\u001b[0m builder_instance\u001b[39m.\u001b[39;49mdownload_and_prepare(\n\u001b[0;32m   1810\u001b[0m     download_config\u001b[39m=\u001b[39;49mdownload_config,\n\u001b[0;32m   1811\u001b[0m     download_mode\u001b[39m=\u001b[39;49mdownload_mode,\n\u001b[0;32m   1812\u001b[0m     verification_mode\u001b[39m=\u001b[39;49mverification_mode,\n\u001b[0;32m   1813\u001b[0m     try_from_hf_gcs\u001b[39m=\u001b[39;49mtry_from_hf_gcs,\n\u001b[0;32m   1814\u001b[0m     num_proc\u001b[39m=\u001b[39;49mnum_proc,\n\u001b[0;32m   1815\u001b[0m     storage_options\u001b[39m=\u001b[39;49mstorage_options,\n\u001b[0;32m   1816\u001b[0m )\n\u001b[0;32m   1818\u001b[0m \u001b[39m# Build dataset for splits\u001b[39;00m\n\u001b[0;32m   1819\u001b[0m keep_in_memory \u001b[39m=\u001b[39m (\n\u001b[0;32m   1820\u001b[0m     keep_in_memory \u001b[39mif\u001b[39;00m keep_in_memory \u001b[39mis\u001b[39;00m \u001b[39mnot\u001b[39;00m \u001b[39mNone\u001b[39;00m \u001b[39melse\u001b[39;00m is_small_dataset(builder_instance\u001b[39m.\u001b[39minfo\u001b[39m.\u001b[39mdataset_size)\n\u001b[0;32m   1821\u001b[0m )\n",
      "File \u001b[1;32mc:\\Users\\Habram\\Anaconda3\\envs\\LayoutXLM\\lib\\site-packages\\datasets\\builder.py:909\u001b[0m, in \u001b[0;36mDatasetBuilder.download_and_prepare\u001b[1;34m(self, output_dir, download_config, download_mode, verification_mode, ignore_verifications, try_from_hf_gcs, dl_manager, base_path, use_auth_token, file_format, max_shard_size, num_proc, storage_options, **download_and_prepare_kwargs)\u001b[0m\n\u001b[0;32m    907\u001b[0m     \u001b[39mif\u001b[39;00m num_proc \u001b[39mis\u001b[39;00m \u001b[39mnot\u001b[39;00m \u001b[39mNone\u001b[39;00m:\n\u001b[0;32m    908\u001b[0m         prepare_split_kwargs[\u001b[39m\"\u001b[39m\u001b[39mnum_proc\u001b[39m\u001b[39m\"\u001b[39m] \u001b[39m=\u001b[39m num_proc\n\u001b[1;32m--> 909\u001b[0m     \u001b[39mself\u001b[39;49m\u001b[39m.\u001b[39;49m_download_and_prepare(\n\u001b[0;32m    910\u001b[0m         dl_manager\u001b[39m=\u001b[39;49mdl_manager,\n\u001b[0;32m    911\u001b[0m         verification_mode\u001b[39m=\u001b[39;49mverification_mode,\n\u001b[0;32m    912\u001b[0m         \u001b[39m*\u001b[39;49m\u001b[39m*\u001b[39;49mprepare_split_kwargs,\n\u001b[0;32m    913\u001b[0m         \u001b[39m*\u001b[39;49m\u001b[39m*\u001b[39;49mdownload_and_prepare_kwargs,\n\u001b[0;32m    914\u001b[0m     )\n\u001b[0;32m    915\u001b[0m \u001b[39m# Sync info\u001b[39;00m\n\u001b[0;32m    916\u001b[0m \u001b[39mself\u001b[39m\u001b[39m.\u001b[39minfo\u001b[39m.\u001b[39mdataset_size \u001b[39m=\u001b[39m \u001b[39msum\u001b[39m(split\u001b[39m.\u001b[39mnum_bytes \u001b[39mfor\u001b[39;00m split \u001b[39min\u001b[39;00m \u001b[39mself\u001b[39m\u001b[39m.\u001b[39minfo\u001b[39m.\u001b[39msplits\u001b[39m.\u001b[39mvalues())\n",
      "File \u001b[1;32mc:\\Users\\Habram\\Anaconda3\\envs\\LayoutXLM\\lib\\site-packages\\datasets\\builder.py:1670\u001b[0m, in \u001b[0;36mGeneratorBasedBuilder._download_and_prepare\u001b[1;34m(self, dl_manager, verification_mode, **prepare_splits_kwargs)\u001b[0m\n\u001b[0;32m   1669\u001b[0m \u001b[39mdef\u001b[39;00m \u001b[39m_download_and_prepare\u001b[39m(\u001b[39mself\u001b[39m, dl_manager, verification_mode, \u001b[39m*\u001b[39m\u001b[39m*\u001b[39mprepare_splits_kwargs):\n\u001b[1;32m-> 1670\u001b[0m     \u001b[39msuper\u001b[39;49m()\u001b[39m.\u001b[39;49m_download_and_prepare(\n\u001b[0;32m   1671\u001b[0m         dl_manager,\n\u001b[0;32m   1672\u001b[0m         verification_mode,\n\u001b[0;32m   1673\u001b[0m         check_duplicate_keys\u001b[39m=\u001b[39;49mverification_mode \u001b[39m==\u001b[39;49m VerificationMode\u001b[39m.\u001b[39;49mBASIC_CHECKS\n\u001b[0;32m   1674\u001b[0m         \u001b[39mor\u001b[39;49;00m verification_mode \u001b[39m==\u001b[39;49m VerificationMode\u001b[39m.\u001b[39;49mALL_CHECKS,\n\u001b[0;32m   1675\u001b[0m         \u001b[39m*\u001b[39;49m\u001b[39m*\u001b[39;49mprepare_splits_kwargs,\n\u001b[0;32m   1676\u001b[0m     )\n",
      "File \u001b[1;32mc:\\Users\\Habram\\Anaconda3\\envs\\LayoutXLM\\lib\\site-packages\\datasets\\builder.py:1004\u001b[0m, in \u001b[0;36mDatasetBuilder._download_and_prepare\u001b[1;34m(self, dl_manager, verification_mode, **prepare_split_kwargs)\u001b[0m\n\u001b[0;32m   1000\u001b[0m split_dict\u001b[39m.\u001b[39madd(split_generator\u001b[39m.\u001b[39msplit_info)\n\u001b[0;32m   1002\u001b[0m \u001b[39mtry\u001b[39;00m:\n\u001b[0;32m   1003\u001b[0m     \u001b[39m# Prepare split will record examples associated to the split\u001b[39;00m\n\u001b[1;32m-> 1004\u001b[0m     \u001b[39mself\u001b[39;49m\u001b[39m.\u001b[39;49m_prepare_split(split_generator, \u001b[39m*\u001b[39;49m\u001b[39m*\u001b[39;49mprepare_split_kwargs)\n\u001b[0;32m   1005\u001b[0m \u001b[39mexcept\u001b[39;00m \u001b[39mOSError\u001b[39;00m \u001b[39mas\u001b[39;00m e:\n\u001b[0;32m   1006\u001b[0m     \u001b[39mraise\u001b[39;00m \u001b[39mOSError\u001b[39;00m(\n\u001b[0;32m   1007\u001b[0m         \u001b[39m\"\u001b[39m\u001b[39mCannot find data file. \u001b[39m\u001b[39m\"\u001b[39m\n\u001b[0;32m   1008\u001b[0m         \u001b[39m+\u001b[39m (\u001b[39mself\u001b[39m\u001b[39m.\u001b[39mmanual_download_instructions \u001b[39mor\u001b[39;00m \u001b[39m\"\u001b[39m\u001b[39m\"\u001b[39m)\n\u001b[0;32m   1009\u001b[0m         \u001b[39m+\u001b[39m \u001b[39m\"\u001b[39m\u001b[39m\\n\u001b[39;00m\u001b[39mOriginal error:\u001b[39m\u001b[39m\\n\u001b[39;00m\u001b[39m\"\u001b[39m\n\u001b[0;32m   1010\u001b[0m         \u001b[39m+\u001b[39m \u001b[39mstr\u001b[39m(e)\n\u001b[0;32m   1011\u001b[0m     ) \u001b[39mfrom\u001b[39;00m \u001b[39mNone\u001b[39;00m\n",
      "File \u001b[1;32mc:\\Users\\Habram\\Anaconda3\\envs\\LayoutXLM\\lib\\site-packages\\datasets\\builder.py:1508\u001b[0m, in \u001b[0;36mGeneratorBasedBuilder._prepare_split\u001b[1;34m(self, split_generator, check_duplicate_keys, file_format, num_proc, max_shard_size)\u001b[0m\n\u001b[0;32m   1506\u001b[0m job_id \u001b[39m=\u001b[39m \u001b[39m0\u001b[39m\n\u001b[0;32m   1507\u001b[0m \u001b[39mwith\u001b[39;00m pbar:\n\u001b[1;32m-> 1508\u001b[0m     \u001b[39mfor\u001b[39;00m job_id, done, content \u001b[39min\u001b[39;00m \u001b[39mself\u001b[39m\u001b[39m.\u001b[39m_prepare_split_single(\n\u001b[0;32m   1509\u001b[0m         gen_kwargs\u001b[39m=\u001b[39mgen_kwargs, job_id\u001b[39m=\u001b[39mjob_id, \u001b[39m*\u001b[39m\u001b[39m*\u001b[39m_prepare_split_args\n\u001b[0;32m   1510\u001b[0m     ):\n\u001b[0;32m   1511\u001b[0m         \u001b[39mif\u001b[39;00m done:\n\u001b[0;32m   1512\u001b[0m             result \u001b[39m=\u001b[39m content\n",
      "File \u001b[1;32mc:\\Users\\Habram\\Anaconda3\\envs\\LayoutXLM\\lib\\site-packages\\datasets\\builder.py:1665\u001b[0m, in \u001b[0;36mGeneratorBasedBuilder._prepare_split_single\u001b[1;34m(self, gen_kwargs, fpath, file_format, max_shard_size, split_info, check_duplicate_keys, job_id)\u001b[0m\n\u001b[0;32m   1663\u001b[0m     \u001b[39mif\u001b[39;00m \u001b[39misinstance\u001b[39m(e, SchemaInferenceError) \u001b[39mand\u001b[39;00m e\u001b[39m.\u001b[39m__context__ \u001b[39mis\u001b[39;00m \u001b[39mnot\u001b[39;00m \u001b[39mNone\u001b[39;00m:\n\u001b[0;32m   1664\u001b[0m         e \u001b[39m=\u001b[39m e\u001b[39m.\u001b[39m__context__\n\u001b[1;32m-> 1665\u001b[0m     \u001b[39mraise\u001b[39;00m DatasetGenerationError(\u001b[39m\"\u001b[39m\u001b[39mAn error occurred while generating the dataset\u001b[39m\u001b[39m\"\u001b[39m) \u001b[39mfrom\u001b[39;00m \u001b[39me\u001b[39;00m\n\u001b[0;32m   1667\u001b[0m \u001b[39myield\u001b[39;00m job_id, \u001b[39mTrue\u001b[39;00m, (total_num_examples, total_num_bytes, writer\u001b[39m.\u001b[39m_features, num_shards, shard_lengths)\n",
      "\u001b[1;31mDatasetGenerationError\u001b[0m: An error occurred while generating the dataset"
     ]
    }
   ],
   "source": [
    "from datasets import load_dataset\n",
    "\n",
    "# Load the custom dataset (or it if it does not exist)\n",
    "# Param 1: location of the dataset loader script\n",
    "# Param 2: location of cache folder, where the dataset will be saved\n",
    "dataset = load_dataset(r'C:\\Users\\Habram\\Documents\\thesis-masters\\IstVoices_de\\istvoices_dataset_de.py',\n",
    "                       cache_dir=r'C:\\Users\\Habram\\.cache')"
   ]
  },
  {
   "cell_type": "code",
   "execution_count": 4,
   "metadata": {},
   "outputs": [
    {
     "data": {
      "text/plain": [
       "DatasetDict({\n",
       "    train: Dataset({\n",
       "        features: ['id', 'tokens', 'bboxes', 'ner_tags', 'image'],\n",
       "        num_rows: 150\n",
       "    })\n",
       "    test: Dataset({\n",
       "        features: ['id', 'tokens', 'bboxes', 'ner_tags', 'image'],\n",
       "        num_rows: 50\n",
       "    })\n",
       "})"
      ]
     },
     "execution_count": 4,
     "metadata": {},
     "output_type": "execute_result"
    }
   ],
   "source": [
    "dataset"
   ]
  },
  {
   "cell_type": "code",
   "execution_count": 5,
   "metadata": {},
   "outputs": [
    {
     "data": {
      "text/plain": [
       "{'id': Value(dtype='string', id=None),\n",
       " 'tokens': Sequence(feature=Value(dtype='string', id=None), length=-1, id=None),\n",
       " 'bboxes': Sequence(feature=Sequence(feature=Value(dtype='int64', id=None), length=-1, id=None), length=-1, id=None),\n",
       " 'ner_tags': Sequence(feature=ClassLabel(names=['O', 'B-R_NAME', 'I-R_NAME', 'B-R_STREET', 'I-R_STREET', 'B-R_HOUSENUMBER', 'I-R_HOUSENUMBER', 'B-R_ZIP', 'I-R_ZIP', 'B-R_CITY', 'I-R_CITY', 'B-R_COUNTRY', 'I-R_COUNTRY', 'B-R_VAT', 'I-R_VAT', 'B-S_NAME', 'I-S_NAME', 'B-S_STREET', 'I-S_STREET', 'B-S_HOUSENUMBER', 'I-S_HOUSENUMBER', 'B-S_ZIP', 'I-S_ZIP', 'B-S_CITY', 'I-S_CITY', 'B-S_COUNTRY', 'I-S_COUNTRY', 'B-S_VAT', 'I-S_VAT', 'B-S_BANK', 'I-S_BANK', 'B-S_BIC', 'I-S_BIC', 'B-S_IBAN', 'I-S_IBAN', 'B-S_TEL', 'I-S_TEL', 'B-S_EMAIL', 'I-S_EMAIL', 'B-I_NUMBER', 'I-I_NUMBER', 'B-I_DATE', 'I-I_DATE', 'B-I_DUEDATE', 'I-I_DUEDATE', 'B-I_AMOUNT', 'I-I_AMOUNT', 'B-I_CURRENCY', 'I-I_CURRENCY'], id=None), length=-1, id=None),\n",
       " 'image': Image(decode=True, id=None)}"
      ]
     },
     "execution_count": 5,
     "metadata": {},
     "output_type": "execute_result"
    }
   ],
   "source": [
    "dataset['train'].features"
   ]
  },
  {
   "attachments": {},
   "cell_type": "markdown",
   "metadata": {},
   "source": [
    "### Prepare dataset"
   ]
  },
  {
   "cell_type": "code",
   "execution_count": null,
   "metadata": {},
   "outputs": [],
   "source": []
  }
 ],
 "metadata": {
  "kernelspec": {
   "display_name": "LayoutXLM",
   "language": "python",
   "name": "python3"
  },
  "language_info": {
   "codemirror_mode": {
    "name": "ipython",
    "version": 3
   },
   "file_extension": ".py",
   "mimetype": "text/x-python",
   "name": "python",
   "nbconvert_exporter": "python",
   "pygments_lexer": "ipython3",
   "version": "3.8.16"
  },
  "orig_nbformat": 4
 },
 "nbformat": 4,
 "nbformat_minor": 2
}
