{
 "cells": [
  {
   "attachments": {},
   "cell_type": "markdown",
   "metadata": {},
   "source": [
    "### 1. Generate fake invoices and annotate them"
   ]
  },
  {
   "cell_type": "code",
   "execution_count": 1,
   "metadata": {},
   "outputs": [],
   "source": [
    "from fakedata import FakeData\n",
    "from PIL import Image, ImageDraw, ImageFont\n",
    "from invoice_generator import LayoutManager, Draw_Table\n",
    "import json\n",
    "\n",
    "class InvoiceGenerator():\n",
    "    def __init__(self, canvas, output_dir, num_documents = 1, det = True) -> None:\n",
    "        self.canvas = canvas\n",
    "        self.drawer = ImageDraw.Draw(self.canvas)\n",
    "        self.font = ImageFont.truetype(\"arial.ttf\", 30)\n",
    "        self.num_documents = num_documents\n",
    "        self.det = det\n",
    "        self.labels = []     \n",
    "\n",
    "    def __call__(self):\n",
    "        # 1. Generate the layout\n",
    "        layout_manager = LayoutManager()\n",
    "        self.layout = layout_manager()\n",
    "        # self.visualize_layout()\n",
    "\n",
    "        # 2. Generate the fake data\n",
    "        fake_data_generator = FakeData()\n",
    "        fake_data = fake_data_generator(self.num_documents, self.det)\n",
    "\n",
    "        # 3. Draw the fake data on the image\n",
    "        table_drawer = Draw_Table()\n",
    "        for i, document in enumerate(fake_data):\n",
    "            # Draw the table on the document\n",
    "            self.labels = table_drawer(self.labels, self.canvas, self.layout['T_field'], document['I_Currency'])\n",
    "            # Save the labels\n",
    "            with open(output_dir+'/Annotations/'+str(i)+'.json', 'w') as fp:\n",
    "                json.dump(self.labels, fp)\n",
    "            # Save the image\n",
    "        self.canvas.save(output_dir+'/Images/'+str(i)+'.tif')\n",
    "        #self.canvas.show()\n",
    "\n",
    "    def visualize_layout(self):\n",
    "        for key in self.layout:\n",
    "            self.drawer.rectangle(self.layout[key], outline='black')\n",
    "            self.drawer.text(self.layout[key], key, font=self.font, fill='black')\n",
    "        self.canvas.show()\n",
    "\n",
    "blank_dir = r'blank.tif'\n",
    "blank = Image.open(blank_dir)\n",
    "output_dir = r'C:\\Users\\Habram\\Documents\\Datasets\\fake-invoices'\n",
    "\n",
    "invoice_generator = InvoiceGenerator(blank, output_dir, 1, True)\n",
    "invoice_generator()"
   ]
  },
  {
   "attachments": {},
   "cell_type": "markdown",
   "metadata": {},
   "source": [
    "### 2. Visualize the labels on an invoice"
   ]
  },
  {
   "cell_type": "code",
   "execution_count": 2,
   "metadata": {},
   "outputs": [],
   "source": [
    "from annotator import label_visualizer\n",
    "from PIL import Image\n",
    "import json\n",
    "\n",
    "# Read-in the labels\n",
    "labels_dir = r'C:\\Users\\Habram\\Documents\\Datasets\\fake-invoices\\Annotations\\0.json'\n",
    "f = open(labels_dir)\n",
    "labels = json.load(f)\n",
    "\n",
    "# Read-in the image\n",
    "image_dir = r'C:\\Users\\Habram\\Documents\\Datasets\\fake-invoices\\Images\\0.tif'\n",
    "image = Image.open(image_dir)\n",
    "\n",
    "# Print the labels on the image\n",
    "label_visualizer(image=image, labels=labels)"
   ]
  }
 ],
 "metadata": {
  "kernelspec": {
   "display_name": "nlp",
   "language": "python",
   "name": "python3"
  },
  "language_info": {
   "codemirror_mode": {
    "name": "ipython",
    "version": 3
   },
   "file_extension": ".py",
   "mimetype": "text/x-python",
   "name": "python",
   "nbconvert_exporter": "python",
   "pygments_lexer": "ipython3",
   "version": "3.8.16"
  },
  "orig_nbformat": 4
 },
 "nbformat": 4,
 "nbformat_minor": 2
}
