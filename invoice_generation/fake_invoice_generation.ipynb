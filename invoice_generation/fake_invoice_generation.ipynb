{
 "cells": [
  {
   "cell_type": "code",
   "execution_count": null,
   "metadata": {},
   "outputs": [],
   "source": [
    "class Draw_customer_field():\n",
    "    def __init__(self) -> None:\n",
    "        pass\n",
    "\n",
    "    def __call__(self):\n",
    "        pass"
   ]
  },
  {
   "cell_type": "code",
   "execution_count": 1,
   "metadata": {},
   "outputs": [
    {
     "name": "stdout",
     "output_type": "stream",
     "text": [
      "[{'text': 'Description', 'label': 'Other', 'box': [112, 989, 264, 1017], 'words': [{'box': (112, 989, 264, 1017), 'text': 'Description'}]}, {'text': 'Quantity', 'label': 'Other', 'box': [694, 989, 806, 1017], 'words': [{'box': (694, 989, 806, 1017), 'text': 'Quantity'}]}, {'text': 'Tax %', 'label': 'Other', 'box': [1080, 989, 1165, 1011], 'words': [{'box': (1080, 989, 1130, 1011), 'text': 'Tax'}, {'box': (1138, 989, 1165, 1011), 'text': '%'}]}, {'text': 'Brutto', 'label': 'Other', 'box': [1444, 989, 1524, 1011], 'words': [{'box': (1444, 989, 1524, 1011), 'text': 'Brutto'}]}, {'text': 'Professional software', 'label': 'Other', 'box': [112, 1063, 401, 1085], 'words': [{'box': (112, 1063, 279, 1085), 'text': 'Professional'}, {'box': (287, 1063, 401, 1085), 'text': 'software'}]}, {'text': '4', 'label': 'Other', 'box': [789, 1063, 806, 1085], 'words': [{'box': (789, 1063, 806, 1085), 'text': '4'}]}, {'text': '9', 'label': 'Other', 'box': [1148, 1063, 1165, 1085], 'words': [{'box': (1148, 1063, 1165, 1085), 'text': '9'}]}, {'text': 'GBP', 'label': 'I_Currency', 'box': [1461, 1063, 1524, 1085], 'words': [{'box': (1461, 1063, 1524, 1085), 'text': 'GBP'}]}, {'text': '464.3', 'label': 'Other', 'box': [1377, 1063, 1453, 1085], 'words': [{'box': (1377, 1063, 1453, 1085), 'text': '464.3'}]}, {'text': 'Smart white board', 'label': 'Other', 'box': [112, 1113, 358, 1135], 'words': [{'box': (112, 1113, 193, 1135), 'text': 'Smart'}, {'box': (201, 1113, 272, 1135), 'text': 'white'}, {'box': (280, 1113, 358, 1135), 'text': 'board'}]}, {'text': '1', 'label': 'Other', 'box': [789, 1113, 806, 1135], 'words': [{'box': (789, 1113, 806, 1135), 'text': '1'}]}, {'text': '10', 'label': 'Other', 'box': [1131, 1113, 1165, 1135], 'words': [{'box': (1131, 1113, 1165, 1135), 'text': '10'}]}, {'text': 'GBP', 'label': 'I_Currency', 'box': [1461, 1113, 1524, 1135], 'words': [{'box': (1461, 1113, 1524, 1135), 'text': 'GBP'}]}, {'text': '5445.0', 'label': 'Other', 'box': [1360, 1113, 1453, 1135], 'words': [{'box': (1360, 1113, 1453, 1135), 'text': '5445.0'}]}, {'text': 'Office plants', 'label': 'Other', 'box': [112, 1163, 279, 1191], 'words': [{'box': (112, 1163, 190, 1185), 'text': 'Office'}, {'box': (198, 1163, 279, 1191), 'text': 'plants'}]}, {'text': '11', 'label': 'Other', 'box': [772, 1163, 806, 1185], 'words': [{'box': (772, 1163, 806, 1185), 'text': '11'}]}, {'text': '7', 'label': 'Other', 'box': [1148, 1163, 1165, 1185], 'words': [{'box': (1148, 1163, 1165, 1185), 'text': '7'}]}, {'text': 'GBP', 'label': 'I_Currency', 'box': [1461, 1163, 1524, 1185], 'words': [{'box': (1461, 1163, 1524, 1185), 'text': 'GBP'}]}, {'text': '2428.9', 'label': 'Other', 'box': [1360, 1163, 1453, 1185], 'words': [{'box': (1360, 1163, 1453, 1185), 'text': '2428.9'}]}, {'text': 'Garbage can', 'label': 'Other', 'box': [112, 1213, 287, 1241], 'words': [{'box': (112, 1213, 230, 1241), 'text': 'Garbage'}, {'box': (238, 1219, 287, 1235), 'text': 'can'}]}, {'text': '5', 'label': 'Other', 'box': [789, 1213, 806, 1235], 'words': [{'box': (789, 1213, 806, 1235), 'text': '5'}]}, {'text': '19', 'label': 'Other', 'box': [1131, 1213, 1165, 1235], 'words': [{'box': (1131, 1213, 1165, 1235), 'text': '19'}]}, {'text': 'GBP', 'label': 'I_Currency', 'box': [1461, 1213, 1524, 1235], 'words': [{'box': (1461, 1213, 1524, 1235), 'text': 'GBP'}]}, {'text': '5017.0', 'label': 'Other', 'box': [1360, 1213, 1453, 1235], 'words': [{'box': (1360, 1213, 1453, 1235), 'text': '5017.0'}]}, {'text': 'Maintenance fee', 'label': 'Other', 'box': [112, 1263, 336, 1285], 'words': [{'box': (112, 1263, 286, 1285), 'text': 'Maintenance'}, {'box': (294, 1263, 336, 1285), 'text': 'fee'}]}, {'text': '14', 'label': 'Other', 'box': [772, 1263, 806, 1285], 'words': [{'box': (772, 1263, 806, 1285), 'text': '14'}]}, {'text': '8', 'label': 'Other', 'box': [1148, 1263, 1165, 1285], 'words': [{'box': (1148, 1263, 1165, 1285), 'text': '8'}]}, {'text': 'GBP', 'label': 'I_Currency', 'box': [1461, 1263, 1524, 1285], 'words': [{'box': (1461, 1263, 1524, 1285), 'text': 'GBP'}]}, {'text': '2541.2', 'label': 'Other', 'box': [1360, 1263, 1453, 1285], 'words': [{'box': (1360, 1263, 1453, 1285), 'text': '2541.2'}]}, {'text': 'GBP', 'label': 'I_Currency', 'box': [1463, 1313, 1526, 1335], 'words': [{'box': (1463, 1313, 1526, 1335), 'text': 'GBP'}]}, {'text': '15896.4', 'label': 'I_Amount', 'box': [1345, 1313, 1455, 1335], 'words': [{'box': (1345, 1313, 1455, 1335), 'text': '15896.4'}]}, {'text': 'Sum:', 'label': 'Other', 'box': [1267, 1313, 1337, 1335], 'words': [{'box': (1267, 1313, 1337, 1335), 'text': 'Sum:'}]}]\n"
     ]
    }
   ],
   "source": [
    "from fakedata import FakeData\n",
    "from PIL import Image, ImageDraw, ImageFont\n",
    "from invoice_generator import LayoutManager, Draw_Table\n",
    "\n",
    "class InvoiceGenerator():\n",
    "    def __init__(self, canvas, num_documents = 1, det = True) -> None:\n",
    "        self.canvas = canvas\n",
    "        self.drawer = ImageDraw.Draw(self.canvas)\n",
    "        self.font = ImageFont.truetype(\"arial.ttf\", 30)\n",
    "        self.num_documents = num_documents\n",
    "        self.det = det\n",
    "        self.labels = []     \n",
    "\n",
    "    def __call__(self):\n",
    "        # 1. Generate the layout\n",
    "        layout_manager = LayoutManager()\n",
    "        self.layout = layout_manager()\n",
    "        # self.visualize_layout()\n",
    "\n",
    "        # 2. Generate the fake data\n",
    "        fake_data_generator = FakeData()\n",
    "        fake_data = fake_data_generator(self.num_documents, self.det)\n",
    "\n",
    "        # 3. Draw the fake data on the image\n",
    "        table_drawer = Draw_Table()\n",
    "        for document in fake_data:\n",
    "            # Draw the table on the document\n",
    "            self.labels = table_drawer(self.labels, self.canvas, self.layout['T_field'], document['I_Currency'])\n",
    "        print(self.labels)\n",
    "        self.canvas.show()\n",
    "\n",
    "    def visualize_layout(self):\n",
    "        for key in self.layout:\n",
    "            self.drawer.rectangle(self.layout[key], outline='black')\n",
    "            self.drawer.text(self.layout[key], key, font=self.font, fill='black')\n",
    "        self.canvas.show()\n",
    "\n",
    "blank_dir = r'blank.tif'\n",
    "blank = Image.open(blank_dir)\n",
    "\n",
    "invoice_generator = InvoiceGenerator(blank, 1, True)\n",
    "invoice_generator()"
   ]
  },
  {
   "cell_type": "code",
   "execution_count": null,
   "metadata": {},
   "outputs": [],
   "source": [
    "import json\n",
    "\n",
    "with open('annotation.json', 'w') as fp:\n",
    "    json.dump(label, fp)"
   ]
  }
 ],
 "metadata": {
  "kernelspec": {
   "display_name": "nlp",
   "language": "python",
   "name": "python3"
  },
  "language_info": {
   "codemirror_mode": {
    "name": "ipython",
    "version": 3
   },
   "file_extension": ".py",
   "mimetype": "text/x-python",
   "name": "python",
   "nbconvert_exporter": "python",
   "pygments_lexer": "ipython3",
   "version": "3.8.16"
  },
  "orig_nbformat": 4
 },
 "nbformat": 4,
 "nbformat_minor": 2
}
