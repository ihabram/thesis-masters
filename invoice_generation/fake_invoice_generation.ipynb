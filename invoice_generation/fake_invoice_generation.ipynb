{
 "cells": [
  {
   "attachments": {},
   "cell_type": "markdown",
   "metadata": {},
   "source": [
    "### 1. Generate fake invoices and annotate them"
   ]
  },
  {
   "cell_type": "code",
   "execution_count": 1,
   "metadata": {},
   "outputs": [],
   "source": [
    "from invoice_generator import InvoiceGenerator\n",
    "\n",
    "# Initialize and call the invoice generator\n",
    "invoice_generator = InvoiceGenerator(200)\n",
    "invoice_generator()"
   ]
  },
  {
   "attachments": {},
   "cell_type": "markdown",
   "metadata": {},
   "source": [
    "### 2. Visualize the labels on an invoice"
   ]
  },
  {
   "cell_type": "code",
   "execution_count": 2,
   "metadata": {},
   "outputs": [],
   "source": [
    "from annotator import label_visualizer\n",
    "from PIL import Image\n",
    "import json\n",
    "\n",
    "# Read-in the labels\n",
    "labels_dir = r'C:\\Users\\Habram\\Documents\\Datasets\\fake-invoices\\Annotations\\124.json'\n",
    "f = open(labels_dir)\n",
    "labels = json.load(f)\n",
    "\n",
    "# Read-in the image\n",
    "image_dir = r'C:\\Users\\Habram\\Documents\\Datasets\\fake-invoices\\Images\\124.tif'\n",
    "image = Image.open(image_dir)\n",
    "\n",
    "# Print the labels on the image\n",
    "label_visualizer(image=image, labels=labels)"
   ]
  }
 ],
 "metadata": {
  "kernelspec": {
   "display_name": "nlp",
   "language": "python",
   "name": "python3"
  },
  "language_info": {
   "codemirror_mode": {
    "name": "ipython",
    "version": 3
   },
   "file_extension": ".py",
   "mimetype": "text/x-python",
   "name": "python",
   "nbconvert_exporter": "python",
   "pygments_lexer": "ipython3",
   "version": "3.8.16"
  },
  "orig_nbformat": 4
 },
 "nbformat": 4,
 "nbformat_minor": 2
}
