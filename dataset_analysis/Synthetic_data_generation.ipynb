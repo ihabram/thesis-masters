{
 "cells": [
  {
   "attachments": {},
   "cell_type": "markdown",
   "metadata": {},
   "source": [
    "### 1. Read-in the labels"
   ]
  },
  {
   "cell_type": "code",
   "execution_count": 1,
   "metadata": {},
   "outputs": [],
   "source": [
    "import json\n",
    "\n",
    "label_dir = r'C:\\Users\\Habram\\Documents\\Datasets\\SER_custom\\AgderEnergiSolutionsGmbH_generation.json'\n",
    "f = open(label_dir)\n",
    "data = json.load(f)\n",
    "\n",
    "labels = dict()\n",
    "for elem in data['shapes']:\n",
    "    if elem['label'] in labels.keys():\n",
    "        labels[elem['label']].append(elem['points'])\n",
    "    else:\n",
    "        labels[elem['label']] = [elem['points']]"
   ]
  },
  {
   "attachments": {},
   "cell_type": "markdown",
   "metadata": {},
   "source": [
    "### 2. Generate fake data"
   ]
  },
  {
   "cell_type": "code",
   "execution_count": 4,
   "metadata": {},
   "outputs": [
    {
     "name": "stdout",
     "output_type": "stream",
     "text": [
      "{'R_Name': 'Goddard, Burke and Richards', 'R_Street': 'Turner knolls', 'R_HouseNumber': '672', 'R_ZIP': 'B5 4PG', 'R_City': 'Phillipton', 'R_Country': 'United Kingdom', 'R_VAT': 'GB748866368', 'S_Name': 'Lewis-Turner', 'S_Street': 'Joyce extensions', 'S_HouseNumber': '516', 'S_ZIP': 'M2F 2TN', 'S_City': 'New Lynne', 'S_Country': 'United Kingdom', 'S_VAT': 'GB351379533', 'S_Bank': 'Royal Bank of Scotland', 'S_BIC': 'XQWEGBZT', 'S_IBAN': 'GB87OTKZ96862272758858', 'S_Tel': '(029) 2018430', 'S_Email': 'kim53@example.org', 'I_Number': '903686749', 'I_Amount': '26,54', 'I_Currency': 'GBP', 'Fax': '+44131 4960931', 'Website': 'www.lewisturner.gb', 'Contact_name': 'Dr Jennifer Ball', 'Start_date': '01.10.2016', 'End_date': '31.10.2016', 'I_Date': '31.10.2016', 'I_DueDate': '26.11.2016'}\n",
      "{'R_Name': 'Blümel Lange e.V.', 'R_Street': 'Tina-Gierschner-Allee', 'R_HouseNumber': '1', 'R_ZIP': '29074', 'R_City': 'Saulgau', 'R_Country': 'Germany', 'R_VAT': 'DE348700305', 'S_Name': 'Sorgatz Mälzer GmbH & Co. KG', 'S_Street': 'Tomasz-Albers-Gasse', 'S_HouseNumber': '73', 'S_ZIP': '93856', 'S_City': 'Sankt Goar', 'S_Country': 'Germany', 'S_VAT': 'DE610745682', 'S_Bank': 'Bayerische Landesbank', 'S_BIC': 'GJHZDEW1', 'S_IBAN': 'DE61611549335314675614', 'S_Tel': '08114 003418', 'S_Email': 'kruschwitzbetti@example.com', 'I_Number': '466446622', 'I_Amount': '113116358,34', 'I_Currency': 'EUR', 'Fax': '+49(0) 841198769', 'Website': 'www.sorgatzmlzergmbhcokg.de', 'Contact_name': 'Detlef Schmiedecke', 'Start_date': '01.03.2016', 'End_date': '31.03.2016', 'I_Date': '31.03.2016', 'I_DueDate': '30.04.2016'}\n",
      "{'R_Name': 'Ross, Mitchell and Tomlinson', 'R_Street': 'Georgina port', 'R_HouseNumber': '303', 'R_ZIP': 'L76 5AN', 'R_City': 'North Leslie', 'R_Country': 'United Kingdom', 'R_VAT': 'GB629166192', 'S_Name': 'Robson LLC', 'S_Street': 'Hunter cliffs', 'S_HouseNumber': '8', 'S_ZIP': 'WV1R 7SF', 'S_City': 'Jakemouth', 'S_Country': 'United Kingdom', 'S_VAT': 'GB684890545', 'S_Bank': 'NatWest Group', 'S_BIC': 'MQQXGBHQ', 'S_IBAN': 'GB35ZEBQ38335622790092', 'S_Tel': '(0115) 4960232', 'S_Email': 'terrywilson@example.com', 'I_Number': '331394996', 'I_Amount': '83,76', 'I_Currency': 'GBP', 'Fax': '0117 4960521', 'Website': 'www.robsonllc.gb', 'Contact_name': 'Diane Moss', 'Start_date': '01.07.2015', 'End_date': '31.07.2015', 'I_Date': '31.07.2015', 'I_DueDate': '23.08.2015'}\n",
      "{'R_Name': 'Humphreys, Tomlinson and McCarthy', 'R_Street': 'Black walk', 'R_HouseNumber': '133', 'R_ZIP': 'B2S 9AP', 'R_City': 'Philipbury', 'R_Country': 'United Kingdom', 'R_VAT': 'GB104148078', 'S_Name': 'Schofield, Brown and Ferguson', 'S_Street': 'Margaret via', 'S_HouseNumber': '04', 'S_ZIP': 'WD5M 5ST', 'S_City': 'East Dominic', 'S_Country': 'United Kingdom', 'S_VAT': 'GB457124326', 'S_Bank': 'HSBC', 'S_BIC': 'ZEWVGBKD', 'S_IBAN': 'GB50UMAQ57772336050750', 'S_Tel': '(0161) 496 0798', 'S_Email': 'longanthony@example.net', 'I_Number': '399938540', 'I_Amount': '16551528,88', 'I_Currency': 'GBP', 'Fax': '+44(0)115 496 0361', 'Website': 'www.schofieldbrownandferguson.gb', 'Contact_name': 'Miss Christine Stephens', 'Start_date': '01.01.2021', 'End_date': '31.01.2021', 'I_Date': '31.01.2021', 'I_DueDate': '28.02.2021'}\n",
      "{'R_Name': 'Franceschi s.r.l.', 'R_Street': 'Stretto Pierangelo', 'R_HouseNumber': '296', 'R_ZIP': '07043', 'R_City': 'Tambre', 'R_Country': 'Italy', 'R_VAT': 'IT374153976', 'S_Name': 'Borrani-Brenna Group', 'S_Street': 'Contrada Boezio', 'S_HouseNumber': '94', 'S_ZIP': '70024', 'S_City': 'Loiri Porto San Paolo', 'S_Country': 'Italy', 'S_VAT': 'IT332999424', 'S_Bank': 'Banco BPM', 'S_BIC': 'MPXHIT7D', 'S_IBAN': 'IT14O9639663801166199268799', 'S_Tel': '+39 0708398849', 'S_Email': 'wmontalcini@example.net', 'I_Number': '902848123', 'I_Amount': '99,35', 'I_Currency': 'EUR', 'Fax': '3713243148', 'Website': 'www.borranibrennagroup.it', 'Contact_name': 'Sig.ra Nedda Cabrini', 'Start_date': '01.02.2021', 'End_date': '30.02.2021', 'I_Date': '30.02.2021', 'I_DueDate': '28.03.2021'}\n",
      "{'R_Name': 'Hiller AG', 'R_Street': 'Gregor-Tlustek-Weg', 'R_HouseNumber': '23', 'R_ZIP': '84526', 'R_City': 'Bersenbrück', 'R_Country': 'Germany', 'R_VAT': 'DE441375412', 'S_Name': 'Etzold Adolph Stiftung & Co. KG', 'S_Street': 'Fröhlichstr.', 'S_HouseNumber': '86', 'S_ZIP': '30968', 'S_City': 'Marienberg', 'S_Country': 'Germany', 'S_VAT': 'DE143400966', 'S_Bank': 'Deutsche Bank', 'S_BIC': 'SKHPDER8', 'S_IBAN': 'DE46104134801964158181', 'S_Tel': '+49(0)8596553767', 'S_Email': 'phartung@example.org', 'I_Number': '247949918', 'I_Amount': '1680861,64', 'I_Currency': 'EUR', 'Fax': '0409351510', 'Website': 'www.etzoldadolphstiftungcokg.de', 'Contact_name': 'Annaliese Aumann', 'Start_date': '01.03.2018', 'End_date': '31.03.2018', 'I_Date': '31.03.2018', 'I_DueDate': '29.04.2018'}\n",
      "{'R_Name': 'Kołata S.A.', 'R_Street': 'Boczna', 'R_HouseNumber': '39/14', 'R_ZIP': '79-791', 'R_City': 'Mikołów', 'R_Country': 'Poland', 'R_VAT': 'PL443381470', 'S_Name': 'Pachla-Koman Sp.j.', 'S_Street': 'Partyzantów', 'S_HouseNumber': '713', 'S_ZIP': '83-209', 'S_City': 'Sosnowiec', 'S_Country': 'Poland', 'S_VAT': 'PL645394737', 'S_Bank': 'Idea Bank', 'S_BIC': 'JLQHPLYX', 'S_IBAN': 'PL96589929043399357257112188', 'S_Tel': '501 588 111', 'S_Email': 'kusteroskar@example.com', 'I_Number': '940679831', 'I_Amount': '1363133,51', 'I_Currency': 'PLN', 'Fax': '727 749 370', 'Website': 'www.pachlakomanspj.pl', 'Contact_name': 'Nataniel Mazek', 'Start_date': '01.02.2017', 'End_date': '30.02.2017', 'I_Date': '30.02.2017', 'I_DueDate': '28.03.2017'}\n",
      "{'R_Name': 'Bähr GmbH & Co. OHG', 'R_Street': 'Hertrampfstraße', 'R_HouseNumber': '29', 'R_ZIP': '79680', 'R_City': 'Rosenheim', 'R_Country': 'Germany', 'R_VAT': 'DE461495017', 'S_Name': 'Ortmann GmbH & Co. OHG', 'S_Street': 'Helmuth-Thanel-Straße', 'S_HouseNumber': '32', 'S_ZIP': '23440', 'S_City': 'Auerbach', 'S_Country': 'Germany', 'S_VAT': 'DE556546682', 'S_Bank': 'Norddeutsche Landesbank', 'S_BIC': 'EWAUDE0E', 'S_IBAN': 'DE59201910649706326251', 'S_Tel': '+49(0)9149 65172', 'S_Email': 'schmiedeckeandrei@example.net', 'I_Number': '750455652', 'I_Amount': '307829,56', 'I_Currency': 'EUR', 'Fax': '(08993) 094670', 'Website': 'www.ortmanngmbhcoohg.de', 'Contact_name': 'Dorothea Atzler', 'Start_date': '01.05.2020', 'End_date': '31.05.2020', 'I_Date': '31.05.2020', 'I_DueDate': '27.06.2020'}\n",
      "{'R_Name': 'Schwarz-Amrein', 'R_Street': 'Stalderstrasse', 'R_HouseNumber': '293', 'R_ZIP': '7820', 'R_City': 'Bernex', 'R_Country': 'Switzerland', 'R_VAT': 'CH872892684', 'S_Name': 'Kessler, Bauer and Grob', 'S_Street': 'Blumstrasse', 'S_HouseNumber': '84', 'S_ZIP': '6666', 'S_City': 'Plan-les-Ouates', 'S_Country': 'Switzerland', 'S_VAT': 'CH570515574', 'S_Bank': 'UBS', 'S_BIC': 'FYBWCHEO', 'S_IBAN': 'CH3800166334045106066', 'S_Tel': '001-776-464-8921', 'S_Email': 'schneiderletizia@example.com', 'I_Number': '250237211', 'I_Amount': '8150,66', 'I_Currency': 'CHF', 'Fax': '+1-165-427-0321', 'Website': 'www.kesslerbauerandgrob.ch', 'Contact_name': 'Dr. Irena Kuhn', 'Start_date': '01.08.2023', 'End_date': '31.08.2023', 'I_Date': '31.08.2023', 'I_DueDate': '30.09.2023'}\n",
      "{'R_Name': 'Dussen van GmbH', 'R_Street': 'Eigenwilligweg', 'R_HouseNumber': '0/3', 'R_ZIP': '29929', 'R_City': 'Schweinfurt', 'R_Country': 'Germany', 'R_VAT': 'DE987929959', 'S_Name': 'Gorlitz', 'S_Street': 'Magda-Kaul-Allee', 'S_HouseNumber': '5/6', 'S_ZIP': '91010', 'S_City': 'Halberstadt', 'S_Country': 'Germany', 'S_VAT': 'DE420650251', 'S_Bank': 'Bayerische Landesbank', 'S_BIC': 'XGFFDENC', 'S_IBAN': 'DE79566560351026876154', 'S_Tel': '+49 (0) 5566 563691', 'S_Email': 'nohlmansbaptist@example.net', 'I_Number': '929026580', 'I_Amount': '5,17', 'I_Currency': 'EUR', 'Fax': '(04016) 974343', 'Website': 'www.gorlitz.de', 'Contact_name': 'Univ.Prof. Ida Warmer', 'Start_date': '01.03.2021', 'End_date': '31.03.2021', 'I_Date': '31.03.2021', 'I_DueDate': '28.04.2021'}\n"
     ]
    }
   ],
   "source": [
    "from fakedata import Agder_Energi\n",
    "\n",
    "agder = Agder_Energi()\n",
    "fake_data = agder.get_fake_data(num_invoices=10, det=True)\n",
    "\n",
    "for _ in fake_data:\n",
    "    print(_)"
   ]
  },
  {
   "attachments": {},
   "cell_type": "markdown",
   "metadata": {},
   "source": [
    "### 3. Remove the existing data - create an empty invoice"
   ]
  },
  {
   "cell_type": "code",
   "execution_count": null,
   "metadata": {},
   "outputs": [],
   "source": [
    "from invoice_annotation import CleanInvoice\n",
    "\n",
    "image_loc = r'C:\\Users\\Habram\\Documents\\Datasets\\SER_custom\\AgderEnergiSolutionsGmbH.tif'\n",
    "empty_loc = r'C:\\Users\\Habram\\Documents\\Datasets\\SER_custom\\AgderEnergiSolutionsGmbH_empty.tif'\n",
    "\n",
    "cleaner = CleanInvoice(image_loc=image_loc, output_loc=empty_loc)\n",
    "cleaner.clean_invoice(labels)"
   ]
  },
  {
   "attachments": {},
   "cell_type": "markdown",
   "metadata": {},
   "source": [
    "### 4. Fill the empty invoice with the fake data"
   ]
  },
  {
   "cell_type": "code",
   "execution_count": 5,
   "metadata": {},
   "outputs": [],
   "source": [
    "from invoice_annotation import FillInvoice\n",
    "\n",
    "empty_image_loc = r'C:\\Users\\Habram\\Documents\\Datasets\\SER_custom\\AgderEnergiSolutionsGmbH_empty.tif'\n",
    "output_loc = r'C:\\Users\\Habram\\Documents\\Datasets\\SER_custom'\n",
    "\n",
    "filler = FillInvoice(empty_image_loc, output_loc)\n",
    "filler.fill_invoice(labels, fake_data, False, True, 'AgderEnergiSolutionsGmbH')"
   ]
  }
 ],
 "metadata": {
  "kernelspec": {
   "display_name": "nlp",
   "language": "python",
   "name": "python3"
  },
  "language_info": {
   "codemirror_mode": {
    "name": "ipython",
    "version": 3
   },
   "file_extension": ".py",
   "mimetype": "text/x-python",
   "name": "python",
   "nbconvert_exporter": "python",
   "pygments_lexer": "ipython3",
   "version": "3.8.16"
  },
  "orig_nbformat": 4
 },
 "nbformat": 4,
 "nbformat_minor": 2
}
