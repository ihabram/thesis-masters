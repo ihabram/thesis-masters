{
 "cells": [
  {
   "cell_type": "markdown",
   "metadata": {},
   "source": [
    "### Generate dataset"
   ]
  },
  {
   "cell_type": "code",
   "execution_count": 3,
   "metadata": {},
   "outputs": [],
   "source": [
    "from invoice_generator_de import InvoiceGenerator\n",
    "\n",
    "# Initialize and call the invoice generator\n",
    "invoice_generator = InvoiceGenerator(300)\n",
    "invoice_generator()"
   ]
  },
  {
   "cell_type": "markdown",
   "metadata": {},
   "source": [
    "### Visualize annotations on an example"
   ]
  },
  {
   "cell_type": "code",
   "execution_count": 20,
   "metadata": {},
   "outputs": [],
   "source": [
    "from annotator_de import label_visualizer\n",
    "from PIL import Image\n",
    "import json\n",
    "\n",
    "# Read-in the labels\n",
    "labels_dir = r'C:\\Users\\Habram\\Documents\\Datasets\\fake-invoices_de\\Annotations\\3.json'\n",
    "f = open(labels_dir)\n",
    "labels = json.load(f)\n",
    "\n",
    "# Read-in the image\n",
    "image_dir = r'C:\\Users\\Habram\\Documents\\Datasets\\fake-invoices_de\\Images\\3.tif'\n",
    "image = Image.open(image_dir)\n",
    "\n",
    "# Print the labels on the image\n",
    "label_visualizer(image=image, labels=labels)"
   ]
  },
  {
   "cell_type": "code",
   "execution_count": 18,
   "metadata": {},
   "outputs": [],
   "source": [
    "import os\n",
    "\n",
    "directory = r'C:\\Users\\Habram\\Documents\\Datasets\\fake-invoices_de\\Annotations'\n",
    "\n",
    "for filename in os.listdir(directory):\n",
    "    f = os.path.join(directory, filename)\n",
    "    f = open(f)\n",
    "    labels = json.load(f)\n",
    "    for entity in labels:\n",
    "        if entity['text'] == 'Datum:' or entity['text'] == 'Rechnungsdatum:':\n",
    "            entity['label'] = 'Other'\n",
    "    with open(rf'{directory}\\{filename}', \"w\") as outfile:\n",
    "        json.dump(labels, outfile)"
   ]
  }
 ],
 "metadata": {
  "kernelspec": {
   "display_name": "nlp",
   "language": "python",
   "name": "python3"
  },
  "language_info": {
   "codemirror_mode": {
    "name": "ipython",
    "version": 3
   },
   "file_extension": ".py",
   "mimetype": "text/x-python",
   "name": "python",
   "nbconvert_exporter": "python",
   "pygments_lexer": "ipython3",
   "version": "3.8.16"
  },
  "orig_nbformat": 4
 },
 "nbformat": 4,
 "nbformat_minor": 2
}
